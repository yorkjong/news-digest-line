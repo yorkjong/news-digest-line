{
  "cells": [
    {
      "cell_type": "markdown",
      "metadata": {
        "id": "view-in-github",
        "colab_type": "text"
      },
      "source": [
        "<a href=\"https://colab.research.google.com/github/yorkjong/news-digest-line/blob/main/notebooks/news_notify.ipynb\" target=\"_parent\"><img src=\"https://colab.research.google.com/assets/colab-badge.svg\" alt=\"Open In Colab\"/></a>"
      ]
    },
    {
      "cell_type": "markdown",
      "metadata": {
        "id": "WR9eFgRx3Oak"
      },
      "source": [
        "### Install"
      ]
    },
    {
      "cell_type": "code",
      "execution_count": 1,
      "metadata": {
        "colab": {
          "base_uri": "https://localhost:8080/"
        },
        "id": "HhPa1e1tse76",
        "outputId": "76012a5f-f48e-4d7e-bb32-cfee23bfbcbd",
        "cellView": "form"
      },
      "outputs": [
        {
          "output_type": "stream",
          "name": "stdout",
          "text": [
            "--2024-08-14 10:01:48--  https://raw.githubusercontent.com/yorkjong/news-digest/main/src/clip.py\n",
            "Resolving raw.githubusercontent.com (raw.githubusercontent.com)... 185.199.108.133, 185.199.109.133, 185.199.110.133, ...\n",
            "Connecting to raw.githubusercontent.com (raw.githubusercontent.com)|185.199.108.133|:443... connected.\n",
            "HTTP request sent, awaiting response... 200 OK\n",
            "Length: 8936 (8.7K) [text/plain]\n",
            "Saving to: ‘clip.py’\n",
            "\n",
            "\rclip.py               0%[                    ]       0  --.-KB/s               \rclip.py             100%[===================>]   8.73K  --.-KB/s    in 0s      \n",
            "\n",
            "2024-08-14 10:01:48 (19.5 MB/s) - ‘clip.py’ saved [8936/8936]\n",
            "\n",
            "--2024-08-14 10:01:48--  https://raw.githubusercontent.com/yorkjong/news-digest/main/src/op.py\n",
            "Resolving raw.githubusercontent.com (raw.githubusercontent.com)... 185.199.109.133, 185.199.108.133, 185.199.110.133, ...\n",
            "Connecting to raw.githubusercontent.com (raw.githubusercontent.com)|185.199.109.133|:443... connected.\n",
            "HTTP request sent, awaiting response... 200 OK\n",
            "Length: 5171 (5.0K) [text/plain]\n",
            "Saving to: ‘op.py’\n",
            "\n",
            "op.py               100%[===================>]   5.05K  --.-KB/s    in 0s      \n",
            "\n",
            "2024-08-14 10:01:49 (42.9 MB/s) - ‘op.py’ saved [5171/5171]\n",
            "\n",
            "--2024-08-14 10:01:49--  https://raw.githubusercontent.com/yorkjong/news-digest/main/src/hashtag.py\n",
            "Resolving raw.githubusercontent.com (raw.githubusercontent.com)... 185.199.111.133, 185.199.108.133, 185.199.109.133, ...\n",
            "Connecting to raw.githubusercontent.com (raw.githubusercontent.com)|185.199.111.133|:443... connected.\n",
            "HTTP request sent, awaiting response... 200 OK\n",
            "Length: 3804 (3.7K) [text/plain]\n",
            "Saving to: ‘hashtag.py’\n",
            "\n",
            "hashtag.py          100%[===================>]   3.71K  --.-KB/s    in 0s      \n",
            "\n",
            "2024-08-14 10:01:49 (38.0 MB/s) - ‘hashtag.py’ saved [3804/3804]\n",
            "\n",
            "--2024-08-14 10:01:49--  https://raw.githubusercontent.com/yorkjong/news-digest-line/main/src/line.py\n",
            "Resolving raw.githubusercontent.com (raw.githubusercontent.com)... 185.199.108.133, 185.199.109.133, 185.199.110.133, ...\n",
            "Connecting to raw.githubusercontent.com (raw.githubusercontent.com)|185.199.108.133|:443... connected.\n",
            "HTTP request sent, awaiting response... 200 OK\n",
            "Length: 4405 (4.3K) [text/plain]\n",
            "Saving to: ‘line.py’\n",
            "\n",
            "line.py             100%[===================>]   4.30K  --.-KB/s    in 0s      \n",
            "\n",
            "2024-08-14 10:01:49 (36.9 MB/s) - ‘line.py’ saved [4405/4405]\n",
            "\n",
            "--2024-08-14 10:01:50--  https://raw.githubusercontent.com/yorkjong/news-digest-line/main/src/gdrive.py\n",
            "Resolving raw.githubusercontent.com (raw.githubusercontent.com)... 185.199.108.133, 185.199.109.133, 185.199.110.133, ...\n",
            "Connecting to raw.githubusercontent.com (raw.githubusercontent.com)|185.199.108.133|:443... connected.\n",
            "HTTP request sent, awaiting response... 200 OK\n",
            "Length: 16338 (16K) [text/plain]\n",
            "Saving to: ‘gdrive.py’\n",
            "\n",
            "gdrive.py           100%[===================>]  15.96K  --.-KB/s    in 0.002s  \n",
            "\n",
            "2024-08-14 10:01:50 (8.06 MB/s) - ‘gdrive.py’ saved [16338/16338]\n",
            "\n"
          ]
        }
      ],
      "source": [
        "# @title Download Packages\n",
        "import os\n",
        "\n",
        "fns = ['clip.py', 'op.py', 'hashtag.py']\n",
        "\n",
        "for fn in fns:\n",
        "    if os.path.exists(fn):\n",
        "        os.remove(fn)\n",
        "    url = f'https://raw.githubusercontent.com/yorkjong/news-digest/main/src/{fn}'\n",
        "    !wget $url\n",
        "\n",
        "fns = ['line.py', 'gdrive.py']\n",
        "for fn in fns:\n",
        "    if os.path.exists(fn):\n",
        "        os.remove(fn)\n",
        "    url = f'https://raw.githubusercontent.com/yorkjong/news-digest-line/main/src/{fn}'\n",
        "    !wget $url"
      ]
    },
    {
      "cell_type": "code",
      "source": [
        "# @title Initialize\n",
        "import clip\n",
        "import line\n",
        "import hashtag\n",
        "from gdrive import TokenTable, Subscriptions"
      ],
      "metadata": {
        "cellView": "form",
        "id": "pVbPIEm0K25u"
      },
      "execution_count": 2,
      "outputs": []
    },
    {
      "cell_type": "code",
      "execution_count": 3,
      "metadata": {
        "id": "7Ei5RtsMcJDN",
        "cellView": "form"
      },
      "outputs": [],
      "source": [
        "# @title Setting Environment Variables for Security Data\n",
        "from google.colab import userdata\n",
        "\n",
        "os.environ['SERVICE_ACCOUNT_INFO'] = userdata.get('NEWS_NOTIFY.SERVICE_ACCOUNT_INFO')\n",
        "os.environ['FOLDER_ID'] = userdata.get('NEWS_NOTIFY.FOLDER_ID')\n",
        "\n",
        "#import json\n",
        "#data = json.loads(os.environ['SERVICE_ACCOUNT_INFO'])\n",
        "#json.dumps(data, separators=(',', ':'))"
      ]
    },
    {
      "cell_type": "markdown",
      "metadata": {
        "id": "I8-Wcwwq5ixa"
      },
      "source": [
        "### Execute Actions Step by Step"
      ]
    },
    {
      "cell_type": "code",
      "execution_count": 4,
      "metadata": {
        "id": "we4a197PH1Li"
      },
      "outputs": [],
      "source": [
        "#@title Step 1. Pick a **period** of the news { run: \"auto\", display-mode: \"form\" }\n",
        "period = \"Today\" #@param [\"Today\", \"Yesterday\", \"Recent 2 Days\", \"Recent 7 Days\"]\n",
        "\n",
        "def news_today():\n",
        "    from datetime import datetime\n",
        "    today = datetime.today().strftime('%Y_%m_%d')\n",
        "    last = clip.get_recent_journal_filenames(1)[0][:-3]\n",
        "    if today != last:\n",
        "        print(f'last date: {last}')\n",
        "        print(f'today: {today}')\n",
        "    return clip.get_latest_journal()\n",
        "\n",
        "def news_yesterday():\n",
        "    fns = clip.get_recent_journal_filenames(2)\n",
        "    return clip.get_journal(fns[-2])\n",
        "\n",
        "def news_recent2days():\n",
        "    return clip.merge_recent_journals(days=2)\n",
        "\n",
        "def news_recent7days():\n",
        "    return clip.merge_recent_journals(days=7)\n",
        "\n",
        "period2func = {\n",
        "    'Today': news_today,\n",
        "    'Yesterday': news_yesterday,\n",
        "    'Recent 2 Days': news_recent2days,\n",
        "    'Recent 7 Days': news_recent7days,\n",
        "}\n",
        "\n",
        "content = period2func[period]()\n",
        "\n",
        "import ipywidgets as widgets\n",
        "output = widgets.Output()\n",
        "with output:\n",
        "    print(content)"
      ]
    },
    {
      "cell_type": "code",
      "execution_count": 5,
      "metadata": {
        "id": "Wqk2cZQk6KjR"
      },
      "outputs": [],
      "source": [
        "#@title Step 2. Pick a publication **frequency** { run: \"auto\", display-mode: \"form\" }\n",
        "frequency = \"Daily\" #@param [\"Daily\", \"Weekly\", \"Any\"]\n",
        "\n",
        "\n",
        "subscriptions = (\n",
        "    (('Tesla & SpaceX; Vehicle'), ('GroupA', 'GroupB')),\n",
        "    (('Taiwan',), ('GroupA', 'GroupC')),\n",
        "    (('Crypto',), ('GroupC',)),\n",
        "    (('IT', 'Science', '#AI', '#Robot'), ('GroupB',)),\n",
        ")\n",
        "\n",
        "def gdrive_load_YAML(filename):\n",
        "    import yaml\n",
        "    path = f\"/content/drive/My Drive/news-digest/{filename}\"\n",
        "    if os.path.exists(path):\n",
        "        with open(path, 'r') as f:\n",
        "             return yaml.safe_load(f)\n",
        "\n",
        "#subscriptions = gdrive_load_YAML(f\"subscriptions_{frequency}.yml\")\n",
        "subscriptions = Subscriptions(f\"subscriptions_{frequency}.yml\")\n",
        "\n",
        "#display(subscriptions._table)"
      ]
    },
    {
      "cell_type": "code",
      "execution_count": 14,
      "metadata": {
        "id": "BzKyvK806hMl",
        "colab": {
          "base_uri": "https://localhost:8080/",
          "height": 357,
          "referenced_widgets": [
            "7972be517f7c49c49b54134dd79dc72a",
            "83783edfef4e49788126780e08a4cfb1",
            "1773a3d745544468bb7ae9e51b1de1e1",
            "7462e09f985849cdbe4ce6856d7348c6",
            "0a7d49c96c6840c6bb50830a96fc0d4d",
            "074cdbd1a3bb4aec97d451b6680494b5",
            "53fb35be70ae41b18be8229c2b547309",
            "c7aece0b05eb4aa48a138178efcabdfb",
            "3cb460f6e3134211ab7f12cebd1452c2",
            "72ccd31d44764d7a8c9f258d0be03d83",
            "27cd08dfcad34443b514a9c24c1c51da",
            "58e586ed11ee485f8c8a23baeb53fbc8",
            "4d9ec28578174aa097d9d6ef16d8c6fc",
            "4bf41e4fd21141b68fb2aaeddedcd1d1",
            "7d2bb9d254ae4d6687c4ac1838d80e83",
            "e2d470bbbf61477e98e9509311e5535f"
          ]
        },
        "outputId": "202ea66f-d8ad-4d4e-92f6-aa9dbbc3ddad"
      },
      "outputs": [
        {
          "output_type": "display_data",
          "data": {
            "text/plain": [
              "Tab(children=(Output(), Output(), Output(), Output(), Output(), Output(), Output()), _titles={'0': \"['Tesla & …"
            ],
            "application/vnd.jupyter.widget-view+json": {
              "version_major": 2,
              "version_minor": 0,
              "model_id": "7972be517f7c49c49b54134dd79dc72a"
            }
          },
          "metadata": {}
        }
      ],
      "source": [
        "#@title Step 3. Line Notify { display-mode: \"form\" }\n",
        "mock_mode = True #@param {type:\"boolean\"}\n",
        "show_headings = True #@param {type:\"boolean\"}\n",
        "\n",
        "import time\n",
        "import ipywidgets as widgets\n",
        "import yaml\n",
        "\n",
        "tok_tbl = {\n",
        "    'GroupA': 'LINE_NOTIFY_ACCESS_TOKEN_OF_GROUP_A',\n",
        "    'GroupB': 'LINE_NOTIFY_ACCESS_TOKEN_OF_GROUP_B',\n",
        "    'GroupC': 'LINE_NOTIFY_ACCESS_TOKEN_OF_GROUP_C',\n",
        "}\n",
        "\n",
        "#tok_tbl = gdrive_load_YAML(\"access_tokens.yml\")\n",
        "tok_tbl = TokenTable('access_tokens.yml')\n",
        "\n",
        "def create_outputs():\n",
        "    topics = [str(t) for t, _ in subscriptions]\n",
        "    tab = widgets.Tab()\n",
        "    outputs = [widgets.Output() for name in topics]\n",
        "    tab.children = outputs\n",
        "    for i, t in enumerate(topics):\n",
        "        tab.set_title(i, t)\n",
        "    display(tab)\n",
        "    return outputs\n",
        "\n",
        "def notify():\n",
        "    if mock_mode:\n",
        "        outputs = create_outputs()\n",
        "    for i, (topics, clients) in enumerate(subscriptions):\n",
        "        headings = [topic for topic in topics if not topic.startswith('#')]\n",
        "        tags = [topic for topic in topics if topic.startswith('#')]\n",
        "        categories = headings\n",
        "        if not categories and tags:\n",
        "            categories = clip.get_categories(content)\n",
        "        if tags:\n",
        "            lines = clip.get_lines_of_categories(categories, content, True, True)\n",
        "            lines = hashtag.get_lines_with_any_hashtags(lines, tags)\n",
        "            with_headings = True if headings and show_headings else False\n",
        "            lines = clip.get_lines_of_categories(categories, '\\n'.join(lines), False, with_headings)\n",
        "        else:\n",
        "            lines = clip.get_lines_of_categories(categories, content, False, show_headings)\n",
        "        if not lines:\n",
        "            continue\n",
        "        text = clip.markdown_to_readable('\\n'.join(lines))\n",
        "        message = f'\\n{text}'\n",
        "\n",
        "        if mock_mode:\n",
        "            with outputs[i]:\n",
        "                print(message)\n",
        "\n",
        "        for receiver in clients:\n",
        "            token = tok_tbl[receiver]\n",
        "            if not mock_mode:\n",
        "                line.notify_message(message, token)\n",
        "            #if not mock_mode:\n",
        "            #    time.sleep(1)\n",
        "\n",
        "def notify_with_checks():\n",
        "    if period in ('Today', 'Yesterday'):\n",
        "        if frequency not in ('Daily', 'Any'):\n",
        "            print(f'The period is \"{period}\"')\n",
        "            print('The frequency must be \"Daily\" or \"Any\"')\n",
        "            return\n",
        "    elif period in ('Recent 7 Days',):\n",
        "        if frequency not in ('Weekly', 'Any'):\n",
        "            print(f'The period is \"{period}\"')\n",
        "            print('The frequency must be \"Weekly\" or \"Any\"')\n",
        "            return\n",
        "    elif period in ('Recent 2 Days',):\n",
        "        if frequency not in ('2 Daily', 'Any'):\n",
        "            print(f'The period is \"{period}\"')\n",
        "            print('The frequency must be \"2 Daily\" or \"Any\"')\n",
        "            return\n",
        "    notify()\n",
        "\n",
        "notify_with_checks()"
      ]
    },
    {
      "cell_type": "markdown",
      "metadata": {
        "id": "43d9e9bn86hF"
      },
      "source": [
        "### Remove Clients"
      ]
    },
    {
      "cell_type": "markdown",
      "metadata": {
        "id": "BxT0MRZWfI0T"
      },
      "source": [
        "#### Code"
      ]
    },
    {
      "cell_type": "code",
      "execution_count": 7,
      "metadata": {
        "id": "JpfB5BNHECO0"
      },
      "outputs": [],
      "source": [
        "import copy\n",
        "\n",
        "tbl = TokenTable('access_tokens.yml')\n",
        "sub_daily = Subscriptions(\"subscriptions_Daily.yml\")\n",
        "sub_weekly = Subscriptions(\"subscriptions_Weekly.yml\")\n",
        "#sub_any = Subscriptions(f\"subscriptions_Any.yml\")\n",
        "\n",
        "backup = []\n",
        "for x in (tbl, sub_daily, sub_weekly):\n",
        "    backup.append(copy.deepcopy(x._table))"
      ]
    },
    {
      "cell_type": "code",
      "execution_count": 8,
      "metadata": {
        "id": "lsM-srME9Dav"
      },
      "outputs": [],
      "source": [
        "import ipywidgets as widgets\n",
        "\n",
        "choose_rm = widgets.SelectMultiple(\n",
        "    options=tbl.clients(),\n",
        "    #value=[options[0]],\n",
        "    rows=len(tbl.clients()),\n",
        "    description='Clients:',\n",
        "    disabled=False,\n",
        ")\n",
        "\n",
        "btn_invalid = widgets.Button(description=\"Choose Invalid\")\n",
        "btn_remove = widgets.Button(description=\"Remove\")\n",
        "btn_recover = widgets.Button(description=\"Recover\")\n",
        "btn_save = widgets.Button(description=\"Save\")\n",
        "\n",
        "output2 = widgets.Output()\n",
        "\n",
        "btns = widgets.VBox([btn_invalid, btn_remove, btn_recover, btn_save])\n",
        "hbox = widgets.HBox([choose_rm, btns])\n",
        "ui = widgets.VBox([hbox, output2])\n",
        "\n",
        "def update_output():\n",
        "    with output2:\n",
        "        for x in (tbl, sub_daily, sub_weekly):\n",
        "            display(x._table)\n",
        "            print()\n",
        "\n",
        "def on_invalid_clicked(change):\n",
        "    '''Choose clients with Invalid Access Tokens.'''\n",
        "    invalid = [t for t in tbl.tokens() if line.is_invalid_token(t)]\n",
        "    clients_rm = tbl.clients_from_tokens(invalid)\n",
        "    choose_rm.value = clients_rm\n",
        "    output2.clear_output()\n",
        "    with output2:\n",
        "        display(invalid)\n",
        "        display(clients_rm)\n",
        "        print()\n",
        "    update_output()\n",
        "\n",
        "def on_remove_clicked(change):\n",
        "    for i, x in enumerate((tbl, sub_daily, sub_weekly)):\n",
        "        #x.remove_clients(choose_rm.value)\n",
        "        del x[choose_rm.value]\n",
        "    choose_rm.options = tbl.clients()\n",
        "    choose_rm.rows = len(tbl.clients())\n",
        "    output2.clear_output()\n",
        "    update_output()\n",
        "\n",
        "def on_recover_clicked(change):\n",
        "    for i, x in enumerate((tbl, sub_daily, sub_weekly)):\n",
        "        x._table = backup[i]\n",
        "        backup[i] = copy.deepcopy(x._table)\n",
        "    choose_rm.options = tbl.clients()\n",
        "    choose_rm.rows = len(tbl.clients())\n",
        "    output2.clear_output()\n",
        "    update_output()\n",
        "\n",
        "def on_save_clicked(change):\n",
        "    #for x in (tbl, sub_daily, sub_weekly, sub_any):\n",
        "    for x in (tbl, sub_daily, sub_weekly):\n",
        "        x.save()\n",
        "    output2.clear_output()\n",
        "    with output2:\n",
        "        print('Done!\\n')\n",
        "    update_output()\n",
        "\n",
        "btn_invalid.on_click(on_invalid_clicked)\n",
        "btn_remove.on_click(on_remove_clicked)\n",
        "btn_recover.on_click(on_recover_clicked)\n",
        "btn_save.on_click(on_save_clicked)\n",
        "\n",
        "update_output()"
      ]
    },
    {
      "cell_type": "markdown",
      "metadata": {
        "id": "HMH54K7OfhBb"
      },
      "source": [
        "#### Show"
      ]
    },
    {
      "cell_type": "code",
      "execution_count": 9,
      "metadata": {
        "id": "7yjU0crRe4xT"
      },
      "outputs": [],
      "source": [
        "#display(ui)"
      ]
    },
    {
      "cell_type": "markdown",
      "metadata": {
        "id": "APceoV3blvBs"
      },
      "source": [
        "#### Rename"
      ]
    },
    {
      "cell_type": "code",
      "execution_count": 10,
      "metadata": {
        "id": "t2eTIqQ4kDd7"
      },
      "outputs": [],
      "source": [
        "#tbl.clients()\n",
        "#for x in (tbl, sub_daily, sub_weekly):\n",
        "#    x.rename('*期 / 股 *南天門未來 頂尖對談 summit meeting', '南天門未來')\n",
        "#choose_rm.options = tbl.clients()\n",
        "#output2.clear_output()\n",
        "#update_output()"
      ]
    },
    {
      "cell_type": "markdown",
      "metadata": {
        "id": "l9kvYn67Zue4"
      },
      "source": [
        "### References\n",
        "news-digest:\n",
        "- [Line通知訂閱連結](https://news-digest.vercel.app/LineOauth)\n",
        "- [Line Notify 訂閱 news-digest 新聞](https://news-digest.vercel.app/#/page/Line%20Notify%20訂閱%20news-digest%20新聞)\n",
        "\n",
        "Line Notify:\n",
        "- [LINE Notify已連動的服務](https://notify-bot.line.me/my/)\n",
        "- [上手 LINE Notify 不求人：一行代碼都不用寫的推播通知方法](https://blog.miniasp.com/post/2020/02/17/Go-Through-LINE-Notify-Without-Any-Code)\n",
        "- [筆記 - 更簡單的使用 LINE Notify](https://ithelp.ithome.com.tw/articles/10231992)\n",
        "- [LINE Notify ::services](https://notify-bot.line.me/my/services/)\n",
        "\n",
        "Google Could:\n",
        "- [news-digest – IAM & Admin – gdrive – Google Cloud console](https://console.cloud.google.com/iam-admin/serviceaccounts/details/101728028730105787803;edit=true/keys?authuser=1&project=gdrive-385220&supportedpurview=project)\n",
        "\n",
        "Vercel:\n",
        "- [Using the Python Runtime with Serverless Functions](https://vercel.com/docs/concepts/functions/serverless-functions/runtimes/python)"
      ]
    },
    {
      "cell_type": "markdown",
      "metadata": {
        "id": "R4pJP6szlHX6"
      },
      "source": [
        "#### Format of Config Files\n",
        "\n",
        "subscriptions_Daily.yml:\n",
        "```yaml\n",
        "- [['Tesla & SpaceX; Vehicle'], [GroupA, GroupB]]\n",
        "- [['Tech Titans'], [GroupA, GroupB]]\n",
        "- [[Finance], [GroupA, GroupB, GroupC]]\n",
        "- [[Taiwan], [GroupA, GroupB, GroupC]]\n",
        "- [[Crypto], [GroupA]]\n",
        "- [[IT, Science, '#AI', '#Robot'], [GroupA, GroupB, GroupC]]\n",
        "```\n",
        "\n",
        "subscriptions_Weekly.yml:\n",
        "```yaml\n",
        "- [[Technology], [GroupA, GroupB, GroupC]]\n",
        "```\n",
        "\n",
        "access_tokens.yml:\n",
        "```yaml\n",
        "GroupA: LINE_NOTIFY_ACCESS_TOKEN_OF_GROUP_A\n",
        "GroupB: LINE_NOTIFY_ACCESS_TOKEN_OF_GROUP_B\n",
        "GroupC: LINE_NOTIFY_ACCESS_TOKEN_OF_GROUP_C\n",
        "```"
      ]
    },
    {
      "cell_type": "markdown",
      "metadata": {
        "id": "O8RHHBiSg691"
      },
      "source": [
        "### Test"
      ]
    },
    {
      "cell_type": "code",
      "execution_count": 11,
      "metadata": {
        "id": "VKqXWbKuDE40"
      },
      "outputs": [],
      "source": [
        "#display(subscriptions)\n",
        "#display(tok_tbl._table)\n",
        "#display(output) # output from Step 1"
      ]
    },
    {
      "cell_type": "code",
      "execution_count": 12,
      "metadata": {
        "colab": {
          "base_uri": "https://localhost:8080/"
        },
        "id": "Q-gk7XH9CGJ1",
        "outputId": "bac71e5d-f336-4527-dcdd-b66f25e71ea7"
      },
      "outputs": [
        {
          "output_type": "execute_result",
          "data": {
            "text/plain": [
              "['Tech Industry', 'Finance', 'Crypto']"
            ]
          },
          "metadata": {},
          "execution_count": 12
        }
      ],
      "source": [
        "sub_daily.topics('Mini group')"
      ]
    }
  ],
  "metadata": {
    "colab": {
      "collapsed_sections": [
        "WR9eFgRx3Oak",
        "BxT0MRZWfI0T",
        "l9kvYn67Zue4"
      ],
      "provenance": [],
      "cell_execution_strategy": "setup",
      "mount_file_id": "1pd6RYF5VnNYJ0wqaPed8Vk2EVgzcMEVY",
      "authorship_tag": "ABX9TyMHI21Q1ERqIvaKw2/PgOdD",
      "include_colab_link": true
    },
    "kernelspec": {
      "display_name": "Python 3",
      "name": "python3"
    },
    "language_info": {
      "name": "python"
    },
    "widgets": {
      "application/vnd.jupyter.widget-state+json": {
        "7972be517f7c49c49b54134dd79dc72a": {
          "model_module": "@jupyter-widgets/controls",
          "model_name": "TabModel",
          "model_module_version": "1.5.0",
          "state": {
            "_dom_classes": [],
            "_model_module": "@jupyter-widgets/controls",
            "_model_module_version": "1.5.0",
            "_model_name": "TabModel",
            "_titles": {
              "0": "['Tesla & SpaceX; Vehicle']",
              "1": "['Tech Industry']",
              "2": "['Finance']",
              "3": "['Taiwan']",
              "4": "['Crypto']",
              "5": "['IT']",
              "6": "['#AI', '#robotics', '#brain', 'IT', 'Science', 'Tesla', 'Tech', 'Health', 'Taiwan', 'Crypto']"
            },
            "_view_count": null,
            "_view_module": "@jupyter-widgets/controls",
            "_view_module_version": "1.5.0",
            "_view_name": "TabView",
            "box_style": "",
            "children": [
              "IPY_MODEL_83783edfef4e49788126780e08a4cfb1",
              "IPY_MODEL_1773a3d745544468bb7ae9e51b1de1e1",
              "IPY_MODEL_7462e09f985849cdbe4ce6856d7348c6",
              "IPY_MODEL_0a7d49c96c6840c6bb50830a96fc0d4d",
              "IPY_MODEL_074cdbd1a3bb4aec97d451b6680494b5",
              "IPY_MODEL_53fb35be70ae41b18be8229c2b547309",
              "IPY_MODEL_c7aece0b05eb4aa48a138178efcabdfb"
            ],
            "layout": "IPY_MODEL_3cb460f6e3134211ab7f12cebd1452c2",
            "selected_index": 0
          }
        },
        "83783edfef4e49788126780e08a4cfb1": {
          "model_module": "@jupyter-widgets/output",
          "model_name": "OutputModel",
          "model_module_version": "1.0.0",
          "state": {
            "_dom_classes": [],
            "_model_module": "@jupyter-widgets/output",
            "_model_module_version": "1.0.0",
            "_model_name": "OutputModel",
            "_view_count": null,
            "_view_module": "@jupyter-widgets/output",
            "_view_module_version": "1.0.0",
            "_view_name": "OutputView",
            "layout": "IPY_MODEL_72ccd31d44764d7a8c9f258d0be03d83",
            "msg_id": "",
            "outputs": [
              {
                "output_type": "stream",
                "name": "stdout",
                "text": [
                  "\n",
                  "Tesla & SpaceX; Vehicle:\n",
                  "\n",
                  "特斯拉全面叫停建廠 馬斯克擱置全球擴張野心？ https://news.cnyes.com/news/id/5682767\n",
                  "\n",
                  "川普告訴馬斯克：AI 耗電驚人、電動車並非人人都需要 https://technews.tw/2024/08/13/trump-thinks-not-everyone-necessarily-needs-an-ev/\n",
                  "\n",
                  "SpaceX將執行「人類首次」載人極地太空任務，F2Pool礦池共同創辦人任指揮官 https://www.blocktempo.com/co-founder-of-bitcoin-mining-pool-f2pool-serves-as-a-mission-commander-for-spacex/\n",
                  "\n",
                  "Grok-2来了，能生图识图、性能比肩GPT-4o，马斯克：发展猛如火箭 https://www.jiqizhixin.com/articles/2024-08-14-9\n",
                  "\n",
                  "因未回郵件「被離職」　推特前員工告馬斯克贏近2千萬賠償 https://today.line.me/tw/v2/article/kEvB050\n",
                  "\n",
                  "\n"
                ]
              }
            ]
          }
        },
        "1773a3d745544468bb7ae9e51b1de1e1": {
          "model_module": "@jupyter-widgets/output",
          "model_name": "OutputModel",
          "model_module_version": "1.0.0",
          "state": {
            "_dom_classes": [],
            "_model_module": "@jupyter-widgets/output",
            "_model_module_version": "1.0.0",
            "_model_name": "OutputModel",
            "_view_count": null,
            "_view_module": "@jupyter-widgets/output",
            "_view_module_version": "1.0.0",
            "_view_name": "OutputView",
            "layout": "IPY_MODEL_27cd08dfcad34443b514a9c24c1c51da",
            "msg_id": "",
            "outputs": [
              {
                "output_type": "stream",
                "name": "stdout",
                "text": [
                  "\n",
                  "Tech Industry:\n",
                  "\n",
                  "外資：Blackwell 晶片設計沒缺陷，最多遲 4~6 週 https://technews.tw/2024/08/14/blackwell-shipping-time/\n",
                  "\n",
                  "大摩：輝達Blackwell晶片第四季出貨時間預計不變 https://news.cnyes.com/news/id/5683440\n",
                  "\n",
                  "Nvidia 持股的機器人新創公司公布Q2財報 盤後股價大漲17% https://money.udn.com/money/story/5599/8160483\n",
                  "\n",
                  "晶片巨頭壓力測試？Nvidia 遭競爭對手投訴的背後真相 https://technews.tw/2024/08/14/nvidia-complained-by-competitors/\n",
                  "\n",
                  "華為傳推 H100 競品，輝達無懼雜音、股價反飆 6% https://finance.technews.tw/2024/08/14/nvidia-stock-price-0813/\n",
                  "\n",
                  "一夜之间，谷歌版GPT-4o和AI手机全上市了 https://www.jiqizhixin.com/articles/2024-08-14-7\n",
                  "\n",
                  "Google 發表會懶人包：Gemini Live 語音對話新上線，Pixel 9 Pro Fold 首度登台 https://ccc.technews.tw/2024/08/14/made-by-google-2024-summary/\n",
                  "\n",
                  "安謀股價飆漲過後 英特爾出清全部持股 https://news.cnyes.com/news/id/5682757\n",
                  "\n",
                  "AI 狂熱美光將是大贏家，分析師喊「股價再漲 54%」 https://finance.technews.tw/2024/08/14/micron-stock-ai/\n",
                  "\n",
                  "【觀點】英特爾皺眉、AMD卻笑了！Q2財報解析：2個關鍵字，讓「風水輪流轉」 https://www.bnext.com.tw/article/80120/intel-amd-financial-results-q2-2024-\n",
                  "\n",
                  "曾經的半導體霸主，如今搖搖欲墜：那些改變英特爾命運的執行長們 https://technews.tw/2024/08/14/intel-ceo-story/\n",
                  "\n",
                  "美國電力公司調升預測，迎接5381個數據中心的電力需求 https://uanalyze.com.tw/articles/632875966\n",
                  "\n",
                  "字節跳動推出「即夢 AI」，繼「大煉芯」後中國再掀 AI 影片生成群毆戰 https://technews.tw/2024/08/14/bytedance-joins-openais-sora-rivals-with-ai-video-app-launch/\n",
                  "\n",
                  "\n"
                ]
              }
            ]
          }
        },
        "7462e09f985849cdbe4ce6856d7348c6": {
          "model_module": "@jupyter-widgets/output",
          "model_name": "OutputModel",
          "model_module_version": "1.0.0",
          "state": {
            "_dom_classes": [],
            "_model_module": "@jupyter-widgets/output",
            "_model_module_version": "1.0.0",
            "_model_name": "OutputModel",
            "_view_count": null,
            "_view_module": "@jupyter-widgets/output",
            "_view_module_version": "1.0.0",
            "_view_name": "OutputView",
            "layout": "IPY_MODEL_58e586ed11ee485f8c8a23baeb53fbc8",
            "msg_id": "",
            "outputs": [
              {
                "output_type": "stream",
                "name": "stdout",
                "text": [
                  "\n",
                  "Finance:\n",
                  "\n",
                  "家得寶Home Depot第二季財報符合預期，但未來展望不佳 https://magnifier.cmoney.tw/家得寶/\n",
                  "\n",
                  "【美股新聞】既拋售蘋果及美銀後，巴菲特買了這一支股票，你也該買嗎？ https://magnifier.cmoney.tw/巴菲特買了這一支股票/\n",
                  "\n",
                  "〈紐約匯市〉PPI增速放緩、CPI即將揭曉 美元走軟 https://news.cnyes.com/news/id/5682641\n",
                  "\n",
                  "美國7月CPI即將揭曉 Fed政策或隨之轉向 https://news.cnyes.com/news/id/5683155\n",
                  "\n",
                  "美7月PPI增速全面放緩 服務成本今年以來首降 https://news.cnyes.com/news/id/5682378\n",
                  "\n",
                  "升息後增2成！日本散戶堅定看漲日元 淨多單逼近新高 https://news.cnyes.com/news/id/5683063\n",
                  "\n",
                  "Fed波斯提克「高鴿」預期降息即將到來 https://m.cnyes.com/news/id/5682741\n",
                  "\n",
                  "持續悲觀！外資Q2從陸撤資規模創紀錄 若持續恐創1990年首次年度淨流出 https://news.cnyes.com/news/id/5681283\n",
                  "\n",
                  "\n"
                ]
              }
            ]
          }
        },
        "0a7d49c96c6840c6bb50830a96fc0d4d": {
          "model_module": "@jupyter-widgets/output",
          "model_name": "OutputModel",
          "model_module_version": "1.0.0",
          "state": {
            "_dom_classes": [],
            "_model_module": "@jupyter-widgets/output",
            "_model_module_version": "1.0.0",
            "_model_name": "OutputModel",
            "_view_count": null,
            "_view_module": "@jupyter-widgets/output",
            "_view_module_version": "1.0.0",
            "_view_name": "OutputView",
            "layout": "IPY_MODEL_4d9ec28578174aa097d9d6ef16d8c6fc",
            "msg_id": "",
            "outputs": [
              {
                "output_type": "stream",
                "name": "stdout",
                "text": [
                  "\n",
                  "Taiwan:\n",
                  "\n",
                  "Intel工程師有多爽？員工自曝：工時不到台積電一半，薪水卻更多 https://www.blocktempo.com/taiwanese-community-thinks-intel-does-better-work-than-tsmc/\n",
                  "\n",
                  "高通發哥雙管齊下 OPPO Find X8 和 X8 Pro 傳將搭載天璣 9400 https://m.eprice.com.tw/mobile/talk/4693/5811711/1\n",
                  "\n",
                  "三星即將量產Galaxy Tab S10、核心採天璣9300+， 旗下旗艦平板首次採用聯發科晶片 https://www.techbang.com/posts/117105-galaxy-tab-s10\n",
                  "\n",
                  "傳小米 Civi 系列可能採用天璣 9400晶片組 https://m.eprice.com.tw/mobile/talk/4568/5811720/1/\n",
                  "\n",
                  "〈鴻海法說〉Q2純益季增近6成EPS 2.53元 上半年每股賺4.12元 https://news.cnyes.com/news/id/5683633\n",
                  "\n",
                  "甩輝達GB200傳言！鴻海：一定是「第一批供應商」　預計Q4出貨 https://finance.ettoday.net/news/2797323\n",
                  "\n",
                  "和碩第2季財報攀近十季高峰 業外補獲利增七成 https://udn.com/news/story/7240/8159823\n",
                  "\n",
                  "https://tw.news.yahoo.com/ai-pc帶旺台廠供應鏈-這幾檔漲翻了-054132119.html\n",
                  "\n",
                  "AI PC強勁成長，相關數據吸引市場關注 https://uanalyze.com.tw/articles/224885975\n",
                  "\n",
                  "挪威主權基金上半年台股增12減5 持股中興電比重激增竄升榜首 https://news.cnyes.com/news/id/5683389\n",
                  "\n",
                  "保瑞併購效益持續發酵 Q2獲利年增逾7成 https://news.cnyes.com/news/id/5683150\n",
                  "\n",
                  "長榮上半年大賺逾兩股本 貨櫃三雄財報驚豔市場 https://udn.com/news/story/7241/8159767\n",
                  "\n",
                  "台泥H1獲利仍靠水泥本業，Q3、Q4貢獻估更佳 https://www.moneydj.com/kmdj/news/newsviewer.aspx?a=13e7dd83-b50c-49ff-820c-35a6d024e58b\n",
                  "\n",
                  "中鋼Q2、H1財報亮眼；通過發行永續債 https://today.line.me/tw/v2/article/5yjMVK7\n",
                  "\n",
                  "成本高漲的最壞狀況已過，統一(1216)未來獲利看增 https://uanalyze.com.tw/articles/171105971\n",
                  "\n",
                  "生技權王藥華藥天天創歷史高!生技沒行情? https://news.cnyes.com/news/id/5682784\n",
                  "\n",
                  "\n"
                ]
              }
            ]
          }
        },
        "074cdbd1a3bb4aec97d451b6680494b5": {
          "model_module": "@jupyter-widgets/output",
          "model_name": "OutputModel",
          "model_module_version": "1.0.0",
          "state": {
            "_dom_classes": [],
            "_model_module": "@jupyter-widgets/output",
            "_model_module_version": "1.0.0",
            "_model_name": "OutputModel",
            "_view_count": null,
            "_view_module": "@jupyter-widgets/output",
            "_view_module_version": "1.0.0",
            "_view_name": "OutputView",
            "layout": "IPY_MODEL_4bf41e4fd21141b68fb2aaeddedcd1d1",
            "msg_id": "",
            "outputs": [
              {
                "output_type": "stream",
                "name": "stdout",
                "text": [
                  "\n",
                  "Crypto:\n",
                  "\n",
                  "管理10兆美元的貝萊德，可能仿效Coinbase推出自己的區塊鏈？ https://www.blocktempo.com/will-blackrock-launch-its-own-blockchain/\n",
                  "\n",
                  "https://www.binance.com/zh-TC/support/announcement/幣安新幣挖礦上線第56期項目-使用bnb-fdusd挖礦toncoin-ton-94400db7b1934344aadf944166015715\n",
                  "\n",
                  "幣安 Launchpool 上線 TON，搭配 Binance Super Earn 享受雙重福利 https://abmedia.io/binance-launchpool-and-super-earn-for-ton\n",
                  "\n",
                  "Arthur Hayes：幣市 9 月恢復上漲，「競爭幣旺季」要等比特幣破 7 萬 https://blockcast.it/2024/08/13/arthur-hayes-expects-crypto-market-exit-sideways-to-downward-trajectory-starting-in-september/\n",
                  "\n",
                  "FBI 公開「中本聰」調查結果：不否認握有個人身份情報 https://www.blocktempo.com/fbi-will-neither-confirm-nor-deny-the-existence-of-satoshi-nakamoto-records/\n",
                  "\n",
                  "滿手現金的 Tether 進軍AI，正面挑戰Google、微軟和亞馬遜 https://www.blocktempo.com/tether-full-of-cash-enters-ai/\n",
                  "\n",
                  "Arthur Hayes：日圓升至100，比特幣上看百萬鎂，屎幣的春天也會來 https://abmedia.io/arthur-hayes-water-water-everywhere\n",
                  "\n",
                  "\n"
                ]
              }
            ]
          }
        },
        "53fb35be70ae41b18be8229c2b547309": {
          "model_module": "@jupyter-widgets/output",
          "model_name": "OutputModel",
          "model_module_version": "1.0.0",
          "state": {
            "_dom_classes": [],
            "_model_module": "@jupyter-widgets/output",
            "_model_module_version": "1.0.0",
            "_model_name": "OutputModel",
            "_view_count": null,
            "_view_module": "@jupyter-widgets/output",
            "_view_module_version": "1.0.0",
            "_view_name": "OutputView",
            "layout": "IPY_MODEL_7d2bb9d254ae4d6687c4ac1838d80e83",
            "msg_id": "",
            "outputs": [
              {
                "output_type": "stream",
                "name": "stdout",
                "text": [
                  "\n",
                  "IT:\n",
                  "\n",
                  "採用新架構的 AI 模型「Falcon Mamba 7B」，表現直逼各大 Transformer 模型！ https://www.inside.com.tw/article/35900-falcon-mamba-7b\n",
                  "\n",
                  "Google發表挑戰OpenAI進階語音模式的Gemini Live https://www.ithome.com.tw/news/164458\n",
                  "\n",
                  "谷歌向蘋果三星開火！深夜甩出四款AI手機，一鍵召喚Gemini，安卓全面AI化 https://news.cnyes.com/news/id/5683213\n",
                  "\n",
                  "《Boss AI》超強AI回信、寫信和自動校正重寫輔助神器APP https://mrmad.com.tw/boss-ai\n",
                  "\n",
                  "NVIDIA中國特供晶片太貴 新創公司轉向這張顯示卡 https://news.xfastest.com/nvidia/143572/nvidia-china/\n",
                  "\n",
                  "Appier公布第2季財報 營收創新高、營業利益年增4.4倍 https://udn.com/news/story/7241/8161495\n",
                  "\n",
                  "\n"
                ]
              }
            ]
          }
        },
        "c7aece0b05eb4aa48a138178efcabdfb": {
          "model_module": "@jupyter-widgets/output",
          "model_name": "OutputModel",
          "model_module_version": "1.0.0",
          "state": {
            "_dom_classes": [],
            "_model_module": "@jupyter-widgets/output",
            "_model_module_version": "1.0.0",
            "_model_name": "OutputModel",
            "_view_count": null,
            "_view_module": "@jupyter-widgets/output",
            "_view_module_version": "1.0.0",
            "_view_name": "OutputView",
            "layout": "IPY_MODEL_e2d470bbbf61477e98e9509311e5535f",
            "msg_id": "",
            "outputs": [
              {
                "output_type": "stream",
                "name": "stdout",
                "text": [
                  "\n",
                  "IT:\n",
                  "\n",
                  "採用新架構的 AI 模型「Falcon Mamba 7B」，表現直逼各大 Transformer 模型！ https://www.inside.com.tw/article/35900-falcon-mamba-7b\n",
                  "\n",
                  "《Boss AI》超強AI回信、寫信和自動校正重寫輔助神器APP https://mrmad.com.tw/boss-ai\n",
                  "\n",
                  "Appier公布第2季財報 營收創新高、營業利益年增4.4倍 https://udn.com/news/story/7241/8161495\n",
                  "\n",
                  "Tech:\n",
                  "\n",
                  "美國電力公司調升預測，迎接5381個數據中心的電力需求 https://uanalyze.com.tw/articles/632875966\n",
                  "\n",
                  "字節跳動推出「即夢 AI」，繼「大煉芯」後中國再掀 AI 影片生成群毆戰 https://technews.tw/2024/08/14/bytedance-joins-openais-sora-rivals-with-ai-video-app-launch/\n",
                  "\n",
                  "Taiwan:\n",
                  "\n",
                  "https://tw.news.yahoo.com/ai-pc帶旺台廠供應鏈-這幾檔漲翻了-054132119.html\n",
                  "\n",
                  "AI PC強勁成長，相關數據吸引市場關注 https://uanalyze.com.tw/articles/224885975\n",
                  "\n",
                  "Crypto:\n",
                  "\n",
                  "滿手現金的 Tether 進軍AI，正面挑戰Google、微軟和亞馬遜 https://www.blocktempo.com/tether-full-of-cash-enters-ai/\n",
                  "\n",
                  "\n"
                ]
              }
            ]
          }
        },
        "3cb460f6e3134211ab7f12cebd1452c2": {
          "model_module": "@jupyter-widgets/base",
          "model_name": "LayoutModel",
          "model_module_version": "1.2.0",
          "state": {
            "_model_module": "@jupyter-widgets/base",
            "_model_module_version": "1.2.0",
            "_model_name": "LayoutModel",
            "_view_count": null,
            "_view_module": "@jupyter-widgets/base",
            "_view_module_version": "1.2.0",
            "_view_name": "LayoutView",
            "align_content": null,
            "align_items": null,
            "align_self": null,
            "border": null,
            "bottom": null,
            "display": null,
            "flex": null,
            "flex_flow": null,
            "grid_area": null,
            "grid_auto_columns": null,
            "grid_auto_flow": null,
            "grid_auto_rows": null,
            "grid_column": null,
            "grid_gap": null,
            "grid_row": null,
            "grid_template_areas": null,
            "grid_template_columns": null,
            "grid_template_rows": null,
            "height": null,
            "justify_content": null,
            "justify_items": null,
            "left": null,
            "margin": null,
            "max_height": null,
            "max_width": null,
            "min_height": null,
            "min_width": null,
            "object_fit": null,
            "object_position": null,
            "order": null,
            "overflow": null,
            "overflow_x": null,
            "overflow_y": null,
            "padding": null,
            "right": null,
            "top": null,
            "visibility": null,
            "width": null
          }
        },
        "72ccd31d44764d7a8c9f258d0be03d83": {
          "model_module": "@jupyter-widgets/base",
          "model_name": "LayoutModel",
          "model_module_version": "1.2.0",
          "state": {
            "_model_module": "@jupyter-widgets/base",
            "_model_module_version": "1.2.0",
            "_model_name": "LayoutModel",
            "_view_count": null,
            "_view_module": "@jupyter-widgets/base",
            "_view_module_version": "1.2.0",
            "_view_name": "LayoutView",
            "align_content": null,
            "align_items": null,
            "align_self": null,
            "border": null,
            "bottom": null,
            "display": null,
            "flex": null,
            "flex_flow": null,
            "grid_area": null,
            "grid_auto_columns": null,
            "grid_auto_flow": null,
            "grid_auto_rows": null,
            "grid_column": null,
            "grid_gap": null,
            "grid_row": null,
            "grid_template_areas": null,
            "grid_template_columns": null,
            "grid_template_rows": null,
            "height": null,
            "justify_content": null,
            "justify_items": null,
            "left": null,
            "margin": null,
            "max_height": null,
            "max_width": null,
            "min_height": null,
            "min_width": null,
            "object_fit": null,
            "object_position": null,
            "order": null,
            "overflow": null,
            "overflow_x": null,
            "overflow_y": null,
            "padding": null,
            "right": null,
            "top": null,
            "visibility": null,
            "width": null
          }
        },
        "27cd08dfcad34443b514a9c24c1c51da": {
          "model_module": "@jupyter-widgets/base",
          "model_name": "LayoutModel",
          "model_module_version": "1.2.0",
          "state": {
            "_model_module": "@jupyter-widgets/base",
            "_model_module_version": "1.2.0",
            "_model_name": "LayoutModel",
            "_view_count": null,
            "_view_module": "@jupyter-widgets/base",
            "_view_module_version": "1.2.0",
            "_view_name": "LayoutView",
            "align_content": null,
            "align_items": null,
            "align_self": null,
            "border": null,
            "bottom": null,
            "display": null,
            "flex": null,
            "flex_flow": null,
            "grid_area": null,
            "grid_auto_columns": null,
            "grid_auto_flow": null,
            "grid_auto_rows": null,
            "grid_column": null,
            "grid_gap": null,
            "grid_row": null,
            "grid_template_areas": null,
            "grid_template_columns": null,
            "grid_template_rows": null,
            "height": null,
            "justify_content": null,
            "justify_items": null,
            "left": null,
            "margin": null,
            "max_height": null,
            "max_width": null,
            "min_height": null,
            "min_width": null,
            "object_fit": null,
            "object_position": null,
            "order": null,
            "overflow": null,
            "overflow_x": null,
            "overflow_y": null,
            "padding": null,
            "right": null,
            "top": null,
            "visibility": null,
            "width": null
          }
        },
        "58e586ed11ee485f8c8a23baeb53fbc8": {
          "model_module": "@jupyter-widgets/base",
          "model_name": "LayoutModel",
          "model_module_version": "1.2.0",
          "state": {
            "_model_module": "@jupyter-widgets/base",
            "_model_module_version": "1.2.0",
            "_model_name": "LayoutModel",
            "_view_count": null,
            "_view_module": "@jupyter-widgets/base",
            "_view_module_version": "1.2.0",
            "_view_name": "LayoutView",
            "align_content": null,
            "align_items": null,
            "align_self": null,
            "border": null,
            "bottom": null,
            "display": null,
            "flex": null,
            "flex_flow": null,
            "grid_area": null,
            "grid_auto_columns": null,
            "grid_auto_flow": null,
            "grid_auto_rows": null,
            "grid_column": null,
            "grid_gap": null,
            "grid_row": null,
            "grid_template_areas": null,
            "grid_template_columns": null,
            "grid_template_rows": null,
            "height": null,
            "justify_content": null,
            "justify_items": null,
            "left": null,
            "margin": null,
            "max_height": null,
            "max_width": null,
            "min_height": null,
            "min_width": null,
            "object_fit": null,
            "object_position": null,
            "order": null,
            "overflow": null,
            "overflow_x": null,
            "overflow_y": null,
            "padding": null,
            "right": null,
            "top": null,
            "visibility": null,
            "width": null
          }
        },
        "4d9ec28578174aa097d9d6ef16d8c6fc": {
          "model_module": "@jupyter-widgets/base",
          "model_name": "LayoutModel",
          "model_module_version": "1.2.0",
          "state": {
            "_model_module": "@jupyter-widgets/base",
            "_model_module_version": "1.2.0",
            "_model_name": "LayoutModel",
            "_view_count": null,
            "_view_module": "@jupyter-widgets/base",
            "_view_module_version": "1.2.0",
            "_view_name": "LayoutView",
            "align_content": null,
            "align_items": null,
            "align_self": null,
            "border": null,
            "bottom": null,
            "display": null,
            "flex": null,
            "flex_flow": null,
            "grid_area": null,
            "grid_auto_columns": null,
            "grid_auto_flow": null,
            "grid_auto_rows": null,
            "grid_column": null,
            "grid_gap": null,
            "grid_row": null,
            "grid_template_areas": null,
            "grid_template_columns": null,
            "grid_template_rows": null,
            "height": null,
            "justify_content": null,
            "justify_items": null,
            "left": null,
            "margin": null,
            "max_height": null,
            "max_width": null,
            "min_height": null,
            "min_width": null,
            "object_fit": null,
            "object_position": null,
            "order": null,
            "overflow": null,
            "overflow_x": null,
            "overflow_y": null,
            "padding": null,
            "right": null,
            "top": null,
            "visibility": null,
            "width": null
          }
        },
        "4bf41e4fd21141b68fb2aaeddedcd1d1": {
          "model_module": "@jupyter-widgets/base",
          "model_name": "LayoutModel",
          "model_module_version": "1.2.0",
          "state": {
            "_model_module": "@jupyter-widgets/base",
            "_model_module_version": "1.2.0",
            "_model_name": "LayoutModel",
            "_view_count": null,
            "_view_module": "@jupyter-widgets/base",
            "_view_module_version": "1.2.0",
            "_view_name": "LayoutView",
            "align_content": null,
            "align_items": null,
            "align_self": null,
            "border": null,
            "bottom": null,
            "display": null,
            "flex": null,
            "flex_flow": null,
            "grid_area": null,
            "grid_auto_columns": null,
            "grid_auto_flow": null,
            "grid_auto_rows": null,
            "grid_column": null,
            "grid_gap": null,
            "grid_row": null,
            "grid_template_areas": null,
            "grid_template_columns": null,
            "grid_template_rows": null,
            "height": null,
            "justify_content": null,
            "justify_items": null,
            "left": null,
            "margin": null,
            "max_height": null,
            "max_width": null,
            "min_height": null,
            "min_width": null,
            "object_fit": null,
            "object_position": null,
            "order": null,
            "overflow": null,
            "overflow_x": null,
            "overflow_y": null,
            "padding": null,
            "right": null,
            "top": null,
            "visibility": null,
            "width": null
          }
        },
        "7d2bb9d254ae4d6687c4ac1838d80e83": {
          "model_module": "@jupyter-widgets/base",
          "model_name": "LayoutModel",
          "model_module_version": "1.2.0",
          "state": {
            "_model_module": "@jupyter-widgets/base",
            "_model_module_version": "1.2.0",
            "_model_name": "LayoutModel",
            "_view_count": null,
            "_view_module": "@jupyter-widgets/base",
            "_view_module_version": "1.2.0",
            "_view_name": "LayoutView",
            "align_content": null,
            "align_items": null,
            "align_self": null,
            "border": null,
            "bottom": null,
            "display": null,
            "flex": null,
            "flex_flow": null,
            "grid_area": null,
            "grid_auto_columns": null,
            "grid_auto_flow": null,
            "grid_auto_rows": null,
            "grid_column": null,
            "grid_gap": null,
            "grid_row": null,
            "grid_template_areas": null,
            "grid_template_columns": null,
            "grid_template_rows": null,
            "height": null,
            "justify_content": null,
            "justify_items": null,
            "left": null,
            "margin": null,
            "max_height": null,
            "max_width": null,
            "min_height": null,
            "min_width": null,
            "object_fit": null,
            "object_position": null,
            "order": null,
            "overflow": null,
            "overflow_x": null,
            "overflow_y": null,
            "padding": null,
            "right": null,
            "top": null,
            "visibility": null,
            "width": null
          }
        },
        "e2d470bbbf61477e98e9509311e5535f": {
          "model_module": "@jupyter-widgets/base",
          "model_name": "LayoutModel",
          "model_module_version": "1.2.0",
          "state": {
            "_model_module": "@jupyter-widgets/base",
            "_model_module_version": "1.2.0",
            "_model_name": "LayoutModel",
            "_view_count": null,
            "_view_module": "@jupyter-widgets/base",
            "_view_module_version": "1.2.0",
            "_view_name": "LayoutView",
            "align_content": null,
            "align_items": null,
            "align_self": null,
            "border": null,
            "bottom": null,
            "display": null,
            "flex": null,
            "flex_flow": null,
            "grid_area": null,
            "grid_auto_columns": null,
            "grid_auto_flow": null,
            "grid_auto_rows": null,
            "grid_column": null,
            "grid_gap": null,
            "grid_row": null,
            "grid_template_areas": null,
            "grid_template_columns": null,
            "grid_template_rows": null,
            "height": null,
            "justify_content": null,
            "justify_items": null,
            "left": null,
            "margin": null,
            "max_height": null,
            "max_width": null,
            "min_height": null,
            "min_width": null,
            "object_fit": null,
            "object_position": null,
            "order": null,
            "overflow": null,
            "overflow_x": null,
            "overflow_y": null,
            "padding": null,
            "right": null,
            "top": null,
            "visibility": null,
            "width": null
          }
        }
      }
    }
  },
  "nbformat": 4,
  "nbformat_minor": 0
}