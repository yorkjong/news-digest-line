{
  "nbformat": 4,
  "nbformat_minor": 0,
  "metadata": {
    "colab": {
      "provenance": [],
      "collapsed_sections": [
        "WR9eFgRx3Oak",
        "BxT0MRZWfI0T",
        "l9kvYn67Zue4"
      ],
      "mount_file_id": "1pd6RYF5VnNYJ0wqaPed8Vk2EVgzcMEVY",
      "authorship_tag": "ABX9TyN+Vlo6YizvZ4MrXsH8Y9UR",
      "include_colab_link": true
    },
    "kernelspec": {
      "name": "python3",
      "display_name": "Python 3"
    },
    "language_info": {
      "name": "python"
    },
    "widgets": {
      "application/vnd.jupyter.widget-state+json": {
        "22690a83fd364afab2ad54c97e65cad2": {
          "model_module": "@jupyter-widgets/controls",
          "model_name": "TabModel",
          "model_module_version": "1.5.0",
          "state": {
            "_dom_classes": [],
            "_model_module": "@jupyter-widgets/controls",
            "_model_module_version": "1.5.0",
            "_model_name": "TabModel",
            "_titles": {
              "0": "['Tesla & SpaceX; Vehicle']",
              "1": "['Tech Industry']",
              "2": "['Finance']",
              "3": "['Taiwan']",
              "4": "['Crypto']",
              "5": "['IT']"
            },
            "_view_count": null,
            "_view_module": "@jupyter-widgets/controls",
            "_view_module_version": "1.5.0",
            "_view_name": "TabView",
            "box_style": "",
            "children": [
              "IPY_MODEL_d9f3cbd91c3341ba938c26da5ba08be9",
              "IPY_MODEL_13ff261e5a0d44bc85e5c9972fd969a7",
              "IPY_MODEL_dca547597c9c4f2497ea8a9ee98d17af",
              "IPY_MODEL_c117f2da43274db88bb7f44d5d9de879",
              "IPY_MODEL_144e39b3085543e9a44b0f5a07012a9a",
              "IPY_MODEL_ae57be2b104f4f9ebe32813f1dcd96e4"
            ],
            "layout": "IPY_MODEL_e302e4d7db08476c9a4b09700150700b",
            "selected_index": 0
          }
        },
        "d9f3cbd91c3341ba938c26da5ba08be9": {
          "model_module": "@jupyter-widgets/output",
          "model_name": "OutputModel",
          "model_module_version": "1.0.0",
          "state": {
            "_dom_classes": [],
            "_model_module": "@jupyter-widgets/output",
            "_model_module_version": "1.0.0",
            "_model_name": "OutputModel",
            "_view_count": null,
            "_view_module": "@jupyter-widgets/output",
            "_view_module_version": "1.0.0",
            "_view_name": "OutputView",
            "layout": "IPY_MODEL_985bb0eb3bed4d33b50098f7543efdb4",
            "msg_id": "",
            "outputs": [
              {
                "output_type": "stream",
                "name": "stdout",
                "text": [
                  "\n",
                  "Tesla & SpaceX; Vehicle:\n",
                  "\n",
                  "特斯拉德州鋰精煉廠動工 馬斯克：2025年滿足100萬輛電動車所需 https://news.cnyes.com/news/id/5169667\n",
                  "\n",
                  "馬斯克亮相 F1 邁阿密GP賽場，還建議說可以來場純電動車對混合動力車的比賽 https://www.techbang.com/posts/106048-musk-appeared-in-the-f1-miami-gp-with-baby-daddy-vs\n",
                  "\n",
                  "考量性能表現太強、意外事故風險相對提高，國泰產險宣布拒保Tesla Model S/X Plaid車型 https://news.u-car.com.tw/article/74831\n",
                  "\n",
                  "全球電動汽車電池消費總量 寧德時代、比亞迪位列前二 https://m.cnyes.com/news/id/5171123\n",
                  "\n",
                  "新能源車快速發展 中國成第一季全球最大汽車出口國 https://news.cnyes.com/news/id/5171108\n",
                  "\n",
                  "〈財報〉Rivian上季營收優預期、虧損收斂 重申全年產量目標不變 https://news.cnyes.com/news/id/5172036\n",
                  "\n",
                  "高通收購以色列汽車安全晶片設計公司 Autotalks 拓展智慧車輛市場 https://www.cool3c.com/article/193147\n",
                  "\n",
                  "賓士執行長：就算中國武力攻台，賓士也不會脫離中國 https://technews.tw/2023/05/09/benz-ceo-china-attack-taiwan/\n",
                  "\n",
                  "保時捷將在中國合肥建整車工廠？官方回應：會合作發展自動駕駛 https://m.cnyes.com/news/id/5169503\n",
                  "\n",
                  "\n"
                ]
              }
            ]
          }
        },
        "13ff261e5a0d44bc85e5c9972fd969a7": {
          "model_module": "@jupyter-widgets/output",
          "model_name": "OutputModel",
          "model_module_version": "1.0.0",
          "state": {
            "_dom_classes": [],
            "_model_module": "@jupyter-widgets/output",
            "_model_module_version": "1.0.0",
            "_model_name": "OutputModel",
            "_view_count": null,
            "_view_module": "@jupyter-widgets/output",
            "_view_module_version": "1.0.0",
            "_view_name": "OutputView",
            "layout": "IPY_MODEL_5719e02e77b34424a98a88e490951f62",
            "msg_id": "",
            "outputs": [
              {
                "output_type": "stream",
                "name": "stdout",
                "text": [
                  "\n",
                  "Tech Industry:\n",
                  "\n",
                  "NVIDIA 宣布購買指定 GeForce RTX 40 顯示卡加贈暗黑破壞神 4 ，暗黑破壞神 4 也將支援 DLSS 3 與光線追蹤 https://www.cool3c.com/article/193172\n",
                  "\n",
                  "Google資料倉儲BigQuery更新支援差分隱私技術 https://ithome.com.tw/news/156802\n",
                  "\n",
                  "Google 正面迎擊 MS Bing Chat　使用 AI 升級搜尋引擎 https://unwire.hk/2023/05/09/google-use-magi/fun-tech/\n",
                  "\n",
                  "Apple 終於把 Final Cut Pro 和 Logic Pro 帶到 iPad 上了 https://chinese.engadget.com/apple-is-bringing-final-cut-pro-and-logic-pro-to-ipad-on-may-23rd-145719061.html\n",
                  "\n",
                  "才剛實施庫藏股蘋果就發公司債，殖利率比公債高 https://technews.tw/2023/05/09/apple-corporate-bond/\n",
                  "\n",
                  "英特爾傳伺服器、終端部門大幅裁員 https://www.ithome.com.tw/news/156817\n",
                  "\n",
                  "半導體中心推客製平台，助系統晶片設計成本大省 30% https://technews.tw/2023/05/09/customized-soc-design-platform/\n",
                  "\n",
                  "研究：ChatGPT 誕生對美上市公司企業價值影響很大 https://finance.technews.tw/2023/05/09/the-birth-of-chatgpt-has-a-great-impact-on-the-corporate-value-of-listed-companies-in-the-united-states/\n",
                  "\n",
                  "ChatGPT 使用流量成長開始放緩，初期熱潮漸退去 https://www.inside.com.tw/article/31564-chatgpt-online-use-growth-flattenst\n",
                  "\n",
                  "台積電受威脅？韓媒曝三星3奈米大躍進 https://ctee.com.tw/news/global/859215.html\n",
                  "\n",
                  "晶圓代工廠格羅方德財測遜、重挫 9%，車用晶片成亮點 https://technews.tw/2023/05/10/globalfoundries-reports-first-quarter-2023-financial-results/\n",
                  "\n",
                  "\n"
                ]
              }
            ]
          }
        },
        "dca547597c9c4f2497ea8a9ee98d17af": {
          "model_module": "@jupyter-widgets/output",
          "model_name": "OutputModel",
          "model_module_version": "1.0.0",
          "state": {
            "_dom_classes": [],
            "_model_module": "@jupyter-widgets/output",
            "_model_module_version": "1.0.0",
            "_model_name": "OutputModel",
            "_view_count": null,
            "_view_module": "@jupyter-widgets/output",
            "_view_module_version": "1.0.0",
            "_view_name": "OutputView",
            "layout": "IPY_MODEL_d820ac40ddf844069e41593aa9a21d9a",
            "msg_id": "",
            "outputs": [
              {
                "output_type": "stream",
                "name": "stdout",
                "text": [
                  "\n",
                  "Finance:\n",
                  "\n",
                  "澳元/美元：爆發在即，聚焦美國通脹 https://www.dailyfxasia.com/cn/cmarkets/20230510-23946.html\n",
                  "\n",
                  "假如美國未能提高舉債上限 美元會如何？ https://news.cnyes.com/news/id/5172027\n",
                  "\n",
                  "阿根廷改用人民幣結算，去美元化風潮湧現？ https://www.gvm.com.tw/article/102485\n",
                  "\n",
                  "美國4月CPI前瞻 https://m.cnyes.com/news/id/5171490\n",
                  "\n",
                  "〈美股盤後〉債務上限談判仍陷僵局 那指挫黑超0.6% 費半重挫近1.9% https://news.cnyes.com/news/id/5172030\n",
                  "\n",
                  "Fed官員古爾斯比：授信緊縮已開始 經濟可能衰退 https://news.cnyes.com/news/id/5169652\n",
                  "\n",
                  "美銀調查：即使利率攀升 美國購屋族意志仍堅定不移 https://news.cnyes.com/news/id/5171897\n",
                  "\n",
                  "WTI原油：戰略石油儲備（SPR）再推遲！EIA下調油價預期 https://www.dailyfxasia.com/cn/cmarkets/20230510-23945.html\n",
                  "\n",
                  "美聯儲發布金融穩定報告，WTI原油會複製去年11月跌勢嗎？ https://www.dailyfxasia.com/cn/cmarkets/20230509-23935.html\n",
                  "\n",
                  "知名投資人：應放任區域銀行倒閉 https://news.cnyes.com/news/id/5172396\n",
                  "\n",
                  "有人捧幾十萬人民幣跨城存錢 中國網友：存款特種兵來了？ https://news.cnyes.com/news/id/5172095\n",
                  "\n",
                  "\n"
                ]
              }
            ]
          }
        },
        "c117f2da43274db88bb7f44d5d9de879": {
          "model_module": "@jupyter-widgets/output",
          "model_name": "OutputModel",
          "model_module_version": "1.0.0",
          "state": {
            "_dom_classes": [],
            "_model_module": "@jupyter-widgets/output",
            "_model_module_version": "1.0.0",
            "_model_name": "OutputModel",
            "_view_count": null,
            "_view_module": "@jupyter-widgets/output",
            "_view_module_version": "1.0.0",
            "_view_name": "OutputView",
            "layout": "IPY_MODEL_1d9e68be2698464c9ff24dc085a4812d",
            "msg_id": "",
            "outputs": [
              {
                "output_type": "stream",
                "name": "stdout",
                "text": [
                  "\n",
                  "Taiwan:\n",
                  "\n",
                  "台積電4月營收1479億元 月增1.7% 累計6565億元轉衰 https://news.cnyes.com/news/id/5172835\n",
                  "\n",
                  "台新成為全盈第3大股東！背靠兩大銀行，全盈的「微金融」藍圖畫到哪了？ https://www.bnext.com.tw/article/75197/all-win-fintech-investment-case\n",
                  "\n",
                  "華碩取得超級電腦「台灣杉四號」標案，將發表企業級大型語言模型 https://technews.tw/2023/05/10/taiwania-4/\n",
                  "\n",
                  "伺服器今年仍有旺季機會? 專家觀點：AI興起與台積電法說間接證實升級時間 https://news.cnyes.com/news/id/5170475\n",
                  "\n",
                  "台新成為全盈第3大股東！背靠兩大銀行，全盈的「微金融」藍圖畫到哪了？ https://www.bnext.com.tw/article/75201/metaverse--us-gdp-mul-2035-\n",
                  "\n",
                  "詐領補助遭搜索 勞動部：雄獅暫停補助2年 https://ctee.com.tw/news/industry/858817.html\n",
                  "\n",
                  "\n"
                ]
              }
            ]
          }
        },
        "144e39b3085543e9a44b0f5a07012a9a": {
          "model_module": "@jupyter-widgets/output",
          "model_name": "OutputModel",
          "model_module_version": "1.0.0",
          "state": {
            "_dom_classes": [],
            "_model_module": "@jupyter-widgets/output",
            "_model_module_version": "1.0.0",
            "_model_name": "OutputModel",
            "_view_count": null,
            "_view_module": "@jupyter-widgets/output",
            "_view_module_version": "1.0.0",
            "_view_name": "OutputView",
            "layout": "IPY_MODEL_eddeb13e5105468b99cd58f21163e56c",
            "msg_id": "",
            "outputs": [
              {
                "output_type": "stream",
                "name": "stdout",
                "text": [
                  "\n",
                  "Crypto:\n",
                  "\n",
                  "開發能量將大舉「遷移至比特幣」！Michael Saylor：證明BTC最有價值 https://www.blocktempo.com/michael-saylor-bitcoin-will-suck-a-lot-of-blockchain-development-energy/\n",
                  "\n",
                  "台灣Rybit與派網Pionex是同一家？沒有資產隔離？一文讀懂所有爭議事件 https://abmedia.io/does-rybit-and-pionex-model-work-for-offshore-exchanges\n",
                  "\n",
                  "SEC新規「禁投顧交易加密貨幣」，遭摩根大通、a16z反對：這已違法 https://www.blocktempo.com/sec-custody-proposal-against-by-jpmorgan-and-crypto-firms/\n",
                  "\n",
                  "FTX事件出書！SBF：FTX破產如何揭發這個幣圈中超壞的假好人 https://abmedia.io/how-the-ftx-bankruptcy-unwound-cryptos-very-bad-good-guy\n",
                  "\n",
                  "Coinbase 澄清「不會撤離美國」！但考慮在歐盟、杜拜建立國際中心 https://www.blocktempo.com/coinbase-ceo-will-not-leave-the-united-states/\n",
                  "\n",
                  "\n"
                ]
              }
            ]
          }
        },
        "ae57be2b104f4f9ebe32813f1dcd96e4": {
          "model_module": "@jupyter-widgets/output",
          "model_name": "OutputModel",
          "model_module_version": "1.0.0",
          "state": {
            "_dom_classes": [],
            "_model_module": "@jupyter-widgets/output",
            "_model_module_version": "1.0.0",
            "_model_name": "OutputModel",
            "_view_count": null,
            "_view_module": "@jupyter-widgets/output",
            "_view_module_version": "1.0.0",
            "_view_name": "OutputView",
            "layout": "IPY_MODEL_99bcd7ca96c1473da7ca31a1091bddc8",
            "msg_id": "",
            "outputs": [
              {
                "output_type": "stream",
                "name": "stdout",
                "text": [
                  "\n",
                  "IT:\n",
                  "\n",
                  "從人工智慧的大型語言模型，回顧記憶體匱乏症與可能解藥 https://technews.tw/2023/05/10/ai-llm-memory-problems/\n",
                  "\n",
                  "AI數年內取代人類80%工作，他卻說「反而是好事」！為什麼？ https://www.bnext.com.tw/article/75203/ai-ben-goertzel-may-23\n",
                  "\n",
                  "AI風起雲湧 IBM以Watson另起爐灶 提供AI開發平台 https://news.cnyes.com/news/id/5171518\n",
                  "\n",
                  "家用該買電競筆電還是遊戲桌機？五大方向比一比 https://www.kocpc.com.tw/archives/490961\n",
                  "\n",
                  "\n"
                ]
              }
            ]
          }
        },
        "e302e4d7db08476c9a4b09700150700b": {
          "model_module": "@jupyter-widgets/base",
          "model_name": "LayoutModel",
          "model_module_version": "1.2.0",
          "state": {
            "_model_module": "@jupyter-widgets/base",
            "_model_module_version": "1.2.0",
            "_model_name": "LayoutModel",
            "_view_count": null,
            "_view_module": "@jupyter-widgets/base",
            "_view_module_version": "1.2.0",
            "_view_name": "LayoutView",
            "align_content": null,
            "align_items": null,
            "align_self": null,
            "border": null,
            "bottom": null,
            "display": null,
            "flex": null,
            "flex_flow": null,
            "grid_area": null,
            "grid_auto_columns": null,
            "grid_auto_flow": null,
            "grid_auto_rows": null,
            "grid_column": null,
            "grid_gap": null,
            "grid_row": null,
            "grid_template_areas": null,
            "grid_template_columns": null,
            "grid_template_rows": null,
            "height": null,
            "justify_content": null,
            "justify_items": null,
            "left": null,
            "margin": null,
            "max_height": null,
            "max_width": null,
            "min_height": null,
            "min_width": null,
            "object_fit": null,
            "object_position": null,
            "order": null,
            "overflow": null,
            "overflow_x": null,
            "overflow_y": null,
            "padding": null,
            "right": null,
            "top": null,
            "visibility": null,
            "width": null
          }
        },
        "985bb0eb3bed4d33b50098f7543efdb4": {
          "model_module": "@jupyter-widgets/base",
          "model_name": "LayoutModel",
          "model_module_version": "1.2.0",
          "state": {
            "_model_module": "@jupyter-widgets/base",
            "_model_module_version": "1.2.0",
            "_model_name": "LayoutModel",
            "_view_count": null,
            "_view_module": "@jupyter-widgets/base",
            "_view_module_version": "1.2.0",
            "_view_name": "LayoutView",
            "align_content": null,
            "align_items": null,
            "align_self": null,
            "border": null,
            "bottom": null,
            "display": null,
            "flex": null,
            "flex_flow": null,
            "grid_area": null,
            "grid_auto_columns": null,
            "grid_auto_flow": null,
            "grid_auto_rows": null,
            "grid_column": null,
            "grid_gap": null,
            "grid_row": null,
            "grid_template_areas": null,
            "grid_template_columns": null,
            "grid_template_rows": null,
            "height": null,
            "justify_content": null,
            "justify_items": null,
            "left": null,
            "margin": null,
            "max_height": null,
            "max_width": null,
            "min_height": null,
            "min_width": null,
            "object_fit": null,
            "object_position": null,
            "order": null,
            "overflow": null,
            "overflow_x": null,
            "overflow_y": null,
            "padding": null,
            "right": null,
            "top": null,
            "visibility": null,
            "width": null
          }
        },
        "5719e02e77b34424a98a88e490951f62": {
          "model_module": "@jupyter-widgets/base",
          "model_name": "LayoutModel",
          "model_module_version": "1.2.0",
          "state": {
            "_model_module": "@jupyter-widgets/base",
            "_model_module_version": "1.2.0",
            "_model_name": "LayoutModel",
            "_view_count": null,
            "_view_module": "@jupyter-widgets/base",
            "_view_module_version": "1.2.0",
            "_view_name": "LayoutView",
            "align_content": null,
            "align_items": null,
            "align_self": null,
            "border": null,
            "bottom": null,
            "display": null,
            "flex": null,
            "flex_flow": null,
            "grid_area": null,
            "grid_auto_columns": null,
            "grid_auto_flow": null,
            "grid_auto_rows": null,
            "grid_column": null,
            "grid_gap": null,
            "grid_row": null,
            "grid_template_areas": null,
            "grid_template_columns": null,
            "grid_template_rows": null,
            "height": null,
            "justify_content": null,
            "justify_items": null,
            "left": null,
            "margin": null,
            "max_height": null,
            "max_width": null,
            "min_height": null,
            "min_width": null,
            "object_fit": null,
            "object_position": null,
            "order": null,
            "overflow": null,
            "overflow_x": null,
            "overflow_y": null,
            "padding": null,
            "right": null,
            "top": null,
            "visibility": null,
            "width": null
          }
        },
        "d820ac40ddf844069e41593aa9a21d9a": {
          "model_module": "@jupyter-widgets/base",
          "model_name": "LayoutModel",
          "model_module_version": "1.2.0",
          "state": {
            "_model_module": "@jupyter-widgets/base",
            "_model_module_version": "1.2.0",
            "_model_name": "LayoutModel",
            "_view_count": null,
            "_view_module": "@jupyter-widgets/base",
            "_view_module_version": "1.2.0",
            "_view_name": "LayoutView",
            "align_content": null,
            "align_items": null,
            "align_self": null,
            "border": null,
            "bottom": null,
            "display": null,
            "flex": null,
            "flex_flow": null,
            "grid_area": null,
            "grid_auto_columns": null,
            "grid_auto_flow": null,
            "grid_auto_rows": null,
            "grid_column": null,
            "grid_gap": null,
            "grid_row": null,
            "grid_template_areas": null,
            "grid_template_columns": null,
            "grid_template_rows": null,
            "height": null,
            "justify_content": null,
            "justify_items": null,
            "left": null,
            "margin": null,
            "max_height": null,
            "max_width": null,
            "min_height": null,
            "min_width": null,
            "object_fit": null,
            "object_position": null,
            "order": null,
            "overflow": null,
            "overflow_x": null,
            "overflow_y": null,
            "padding": null,
            "right": null,
            "top": null,
            "visibility": null,
            "width": null
          }
        },
        "1d9e68be2698464c9ff24dc085a4812d": {
          "model_module": "@jupyter-widgets/base",
          "model_name": "LayoutModel",
          "model_module_version": "1.2.0",
          "state": {
            "_model_module": "@jupyter-widgets/base",
            "_model_module_version": "1.2.0",
            "_model_name": "LayoutModel",
            "_view_count": null,
            "_view_module": "@jupyter-widgets/base",
            "_view_module_version": "1.2.0",
            "_view_name": "LayoutView",
            "align_content": null,
            "align_items": null,
            "align_self": null,
            "border": null,
            "bottom": null,
            "display": null,
            "flex": null,
            "flex_flow": null,
            "grid_area": null,
            "grid_auto_columns": null,
            "grid_auto_flow": null,
            "grid_auto_rows": null,
            "grid_column": null,
            "grid_gap": null,
            "grid_row": null,
            "grid_template_areas": null,
            "grid_template_columns": null,
            "grid_template_rows": null,
            "height": null,
            "justify_content": null,
            "justify_items": null,
            "left": null,
            "margin": null,
            "max_height": null,
            "max_width": null,
            "min_height": null,
            "min_width": null,
            "object_fit": null,
            "object_position": null,
            "order": null,
            "overflow": null,
            "overflow_x": null,
            "overflow_y": null,
            "padding": null,
            "right": null,
            "top": null,
            "visibility": null,
            "width": null
          }
        },
        "eddeb13e5105468b99cd58f21163e56c": {
          "model_module": "@jupyter-widgets/base",
          "model_name": "LayoutModel",
          "model_module_version": "1.2.0",
          "state": {
            "_model_module": "@jupyter-widgets/base",
            "_model_module_version": "1.2.0",
            "_model_name": "LayoutModel",
            "_view_count": null,
            "_view_module": "@jupyter-widgets/base",
            "_view_module_version": "1.2.0",
            "_view_name": "LayoutView",
            "align_content": null,
            "align_items": null,
            "align_self": null,
            "border": null,
            "bottom": null,
            "display": null,
            "flex": null,
            "flex_flow": null,
            "grid_area": null,
            "grid_auto_columns": null,
            "grid_auto_flow": null,
            "grid_auto_rows": null,
            "grid_column": null,
            "grid_gap": null,
            "grid_row": null,
            "grid_template_areas": null,
            "grid_template_columns": null,
            "grid_template_rows": null,
            "height": null,
            "justify_content": null,
            "justify_items": null,
            "left": null,
            "margin": null,
            "max_height": null,
            "max_width": null,
            "min_height": null,
            "min_width": null,
            "object_fit": null,
            "object_position": null,
            "order": null,
            "overflow": null,
            "overflow_x": null,
            "overflow_y": null,
            "padding": null,
            "right": null,
            "top": null,
            "visibility": null,
            "width": null
          }
        },
        "99bcd7ca96c1473da7ca31a1091bddc8": {
          "model_module": "@jupyter-widgets/base",
          "model_name": "LayoutModel",
          "model_module_version": "1.2.0",
          "state": {
            "_model_module": "@jupyter-widgets/base",
            "_model_module_version": "1.2.0",
            "_model_name": "LayoutModel",
            "_view_count": null,
            "_view_module": "@jupyter-widgets/base",
            "_view_module_version": "1.2.0",
            "_view_name": "LayoutView",
            "align_content": null,
            "align_items": null,
            "align_self": null,
            "border": null,
            "bottom": null,
            "display": null,
            "flex": null,
            "flex_flow": null,
            "grid_area": null,
            "grid_auto_columns": null,
            "grid_auto_flow": null,
            "grid_auto_rows": null,
            "grid_column": null,
            "grid_gap": null,
            "grid_row": null,
            "grid_template_areas": null,
            "grid_template_columns": null,
            "grid_template_rows": null,
            "height": null,
            "justify_content": null,
            "justify_items": null,
            "left": null,
            "margin": null,
            "max_height": null,
            "max_width": null,
            "min_height": null,
            "min_width": null,
            "object_fit": null,
            "object_position": null,
            "order": null,
            "overflow": null,
            "overflow_x": null,
            "overflow_y": null,
            "padding": null,
            "right": null,
            "top": null,
            "visibility": null,
            "width": null
          }
        }
      }
    }
  },
  "cells": [
    {
      "cell_type": "markdown",
      "metadata": {
        "id": "view-in-github",
        "colab_type": "text"
      },
      "source": [
        "<a href=\"https://colab.research.google.com/github/yorkjong/news-digest-line/blob/main/notebooks/news-notify.ipynb\" target=\"_parent\"><img src=\"https://colab.research.google.com/assets/colab-badge.svg\" alt=\"Open In Colab\"/></a>"
      ]
    },
    {
      "cell_type": "markdown",
      "source": [
        "### Install"
      ],
      "metadata": {
        "id": "WR9eFgRx3Oak"
      }
    },
    {
      "cell_type": "code",
      "source": [
        "import os\n",
        "\n",
        "fns = ['clip.py', 'op.py', 'hashtag.py']\n",
        "\n",
        "for fn in fns:\n",
        "    if os.path.exists(fn):\n",
        "        os.remove(fn)\n",
        "    url = f'https://raw.githubusercontent.com/yorkjong/news-digest/main/src/{fn}'\n",
        "    !wget $url\n",
        "\n",
        "fns = ['line.py', 'gdrive.py']\n",
        "for fn in fns:\n",
        "    if os.path.exists(fn):\n",
        "        os.remove(fn)\n",
        "    url = f'https://raw.githubusercontent.com/yorkjong/news-digest-line/main/src/{fn}'\n",
        "    !wget $url\n",
        "\n",
        "#-------------------------------------------------------------------------------\n",
        "# Initializing\n",
        "#-------------------------------------------------------------------------------\n",
        "\n",
        "import clip\n",
        "import line\n",
        "import hashtag\n",
        "from gdrive import TokenTable, Subscriptions"
      ],
      "metadata": {
        "id": "HhPa1e1tse76"
      },
      "execution_count": null,
      "outputs": []
    },
    {
      "cell_type": "markdown",
      "source": [
        "#### Setting Environment Variables for Security Data"
      ],
      "metadata": {
        "id": "Yr2CHG1Q49Ua"
      }
    },
    {
      "cell_type": "markdown",
      "source": [
        "### Execute Actions Step by Step"
      ],
      "metadata": {
        "id": "I8-Wcwwq5ixa"
      }
    },
    {
      "cell_type": "code",
      "source": [
        "#@title Step 1. Pick a **period** of the news { run: \"auto\", display-mode: \"form\" }\n",
        "period = \"Today\" #@param [\"Today\", \"Yesterday\", \"Recent 2 Days\", \"Recent 7 Days\"]\n",
        "\n",
        "def news_today():\n",
        "    from datetime import datetime\n",
        "    today = datetime.today().strftime('%Y_%m_%d')\n",
        "    last = clip.get_recent_journal_filenames(1)[0][:-3]\n",
        "    if today != last:\n",
        "        print(f'last date: {last}')\n",
        "        print(f'today: {today}')\n",
        "    return clip.get_latest_journal()\n",
        "\n",
        "def news_yesterday():\n",
        "    fns = clip.get_recent_journal_filenames(2)\n",
        "    return clip.get_journal(fns[-2])\n",
        "\n",
        "def news_recent2days():\n",
        "    return clip.merge_recent_journals(days=2)\n",
        "\n",
        "def news_recent7days():\n",
        "    return clip.merge_recent_journals(days=7)\n",
        "\n",
        "period2func = {\n",
        "    'Today': news_today,\n",
        "    'Yesterday': news_yesterday,\n",
        "    'Recent 2 Days': news_recent2days,\n",
        "    'Recent 7 Days': news_recent7days,\n",
        "}\n",
        "\n",
        "content = period2func[period]()\n",
        "\n",
        "import ipywidgets as widgets\n",
        "output = widgets.Output()\n",
        "with output:\n",
        "    print(content)"
      ],
      "metadata": {
        "id": "we4a197PH1Li"
      },
      "execution_count": 3,
      "outputs": []
    },
    {
      "cell_type": "code",
      "source": [
        "#@title Step 2. Pick a publication **frequency** { run: \"auto\", display-mode: \"form\" }\n",
        "frequency = \"Daily\" #@param [\"Daily\", \"Weekly\", \"Any\"]\n",
        "\n",
        "\n",
        "subscriptions = (\n",
        "    (('Tesla & SpaceX; Vehicle'), ('GroupA', 'GroupB')),\n",
        "    (('Taiwan',), ('GroupA', 'GroupC')),\n",
        "    (('Crypto',), ('GroupC',)),\n",
        "    (('IT', 'Science', '#AI', '#Robot'), ('GroupB',)),\n",
        ")\n",
        "\n",
        "def gdrive_load_YAML(filename):\n",
        "    import yaml\n",
        "    path = f\"/content/drive/My Drive/news-digest/{filename}\"\n",
        "    if os.path.exists(path):\n",
        "        with open(path, 'r') as f:\n",
        "             return yaml.safe_load(f)\n",
        "\n",
        "#subscriptions = gdrive_load_YAML(f\"subscriptions_{frequency}.yml\")\n",
        "subscriptions = Subscriptions(f\"subscriptions_{frequency}.yml\")\n",
        "\n",
        "display(subscriptions._table)"
      ],
      "metadata": {
        "id": "Wqk2cZQk6KjR"
      },
      "execution_count": null,
      "outputs": []
    },
    {
      "cell_type": "code",
      "source": [
        "#@title Step 3. Line Notify { display-mode: \"form\" }\n",
        "mock_mode = True #@param {type:\"boolean\"}\n",
        "show_headings = True #@param {type:\"boolean\"}\n",
        "\n",
        "import time\n",
        "import ipywidgets as widgets\n",
        "import yaml\n",
        "\n",
        "tok_tbl = {\n",
        "    'GroupA': 'LINE_NOTIFY_ACCESS_TOKEN_OF_GROUP_A',\n",
        "    'GroupB': 'LINE_NOTIFY_ACCESS_TOKEN_OF_GROUP_B',\n",
        "    'GroupC': 'LINE_NOTIFY_ACCESS_TOKEN_OF_GROUP_C',\n",
        "}\n",
        "\n",
        "#tok_tbl = gdrive_load_YAML(\"access_tokens.yml\")\n",
        "tok_tbl = TokenTable('access_tokens.yml')\n",
        "\n",
        "def create_outputs():\n",
        "    topics = [str(t) for t, _ in subscriptions]\n",
        "    tab = widgets.Tab()\n",
        "    outputs = [widgets.Output() for name in topics]\n",
        "    tab.children = outputs\n",
        "    for i, t in enumerate(topics):\n",
        "        tab.set_title(i, t)\n",
        "    display(tab)\n",
        "    return outputs\n",
        "\n",
        "def notify():\n",
        "    if mock_mode:\n",
        "        outputs = create_outputs()\n",
        "    for i, subscription in enumerate(subscriptions):\n",
        "        topics, clients = subscription\n",
        "        headings = [topic for topic in topics if not topic.startswith('#')]\n",
        "        tags = [topic for topic in topics if topic.startswith('#')]\n",
        "        categories = headings \n",
        "        if not categories and tags:\n",
        "            categories = clip.get_categories(content)\n",
        "        if tags:\n",
        "            lines = clip.get_lines_of_categories(categories, content, True, True) \n",
        "            lines = hashtag.get_lines_with_any_hashtags(lines, tags)\n",
        "            with_headings = True if headings and show_headings else False\n",
        "            lines = clip.get_lines_of_categories(categories, '\\n'.join(lines), False, with_headings)\n",
        "        else:\n",
        "            lines = clip.get_lines_of_categories(categories, content, False, show_headings) \n",
        "        if not lines: \n",
        "            continue\n",
        "        text = clip.markdown_to_readable('\\n'.join(lines))\n",
        "        message = f'\\n{text}'\n",
        "\n",
        "        if mock_mode:\n",
        "            with outputs[i]:\n",
        "                print(message)\n",
        "\n",
        "        for receiver in clients:\n",
        "            token = tok_tbl[receiver]\n",
        "            if not mock_mode:\n",
        "                line.notify_message(message, token)\n",
        "            if not mock_mode:\n",
        "                time.sleep(3)\n",
        "\n",
        "def notify_with_checks():\n",
        "    if period in ('Today', 'Yesterday'):\n",
        "        if frequency not in ('Daily', 'Any'):\n",
        "            print(f'The period is \"{period}\"')\n",
        "            print('The frequency must be \"Daily\" or \"Any\"')\n",
        "            return\n",
        "    elif period in ('Recent 7 Days',):\n",
        "        if frequency not in ('Weekly', 'Any'):\n",
        "            print(f'The period is \"{period}\"')\n",
        "            print('The frequency must be \"Weekly\" or \"Any\"')\n",
        "            return\n",
        "    elif period in ('Recent 2 Days',):\n",
        "        if frequency not in ('2 Daily', 'Any'):\n",
        "            print(f'The period is \"{period}\"')\n",
        "            print('The frequency must be \"2 Daily\" or \"Any\"')\n",
        "            return\n",
        "    notify()\n",
        "\n",
        "notify_with_checks()"
      ],
      "metadata": {
        "id": "BzKyvK806hMl",
        "colab": {
          "base_uri": "https://localhost:8080/",
          "height": 461,
          "referenced_widgets": [
            "22690a83fd364afab2ad54c97e65cad2",
            "d9f3cbd91c3341ba938c26da5ba08be9",
            "13ff261e5a0d44bc85e5c9972fd969a7",
            "dca547597c9c4f2497ea8a9ee98d17af",
            "c117f2da43274db88bb7f44d5d9de879",
            "144e39b3085543e9a44b0f5a07012a9a",
            "ae57be2b104f4f9ebe32813f1dcd96e4",
            "e302e4d7db08476c9a4b09700150700b",
            "985bb0eb3bed4d33b50098f7543efdb4",
            "5719e02e77b34424a98a88e490951f62",
            "d820ac40ddf844069e41593aa9a21d9a",
            "1d9e68be2698464c9ff24dc085a4812d",
            "eddeb13e5105468b99cd58f21163e56c",
            "99bcd7ca96c1473da7ca31a1091bddc8"
          ]
        },
        "outputId": "476b7318-5923-4c53-b3df-8ec73dccf163"
      },
      "execution_count": 5,
      "outputs": [
        {
          "output_type": "display_data",
          "data": {
            "text/plain": [
              "Tab(children=(Output(), Output(), Output(), Output(), Output(), Output()), _titles={'0': \"['Tesla & SpaceX; Ve…"
            ],
            "application/vnd.jupyter.widget-view+json": {
              "version_major": 2,
              "version_minor": 0,
              "model_id": "22690a83fd364afab2ad54c97e65cad2"
            }
          },
          "metadata": {}
        }
      ]
    },
    {
      "cell_type": "markdown",
      "source": [
        "### Remove Clients"
      ],
      "metadata": {
        "id": "43d9e9bn86hF"
      }
    },
    {
      "cell_type": "markdown",
      "source": [
        "#### Code"
      ],
      "metadata": {
        "id": "BxT0MRZWfI0T"
      }
    },
    {
      "cell_type": "code",
      "source": [
        "import copy\n",
        "\n",
        "tbl = TokenTable('access_tokens.yml')\n",
        "sub_daily = Subscriptions(\"subscriptions_Daily.yml\")\n",
        "sub_weekly = Subscriptions(\"subscriptions_Weekly.yml\")\n",
        "#sub_any = Subscriptions(f\"subscriptions_Any.yml\")\n",
        "\n",
        "backup = []\n",
        "for x in (tbl, sub_daily, sub_weekly):\n",
        "    backup.append(copy.deepcopy(x._table))"
      ],
      "metadata": {
        "id": "JpfB5BNHECO0"
      },
      "execution_count": 6,
      "outputs": []
    },
    {
      "cell_type": "code",
      "source": [
        "import ipywidgets as widgets\n",
        "\n",
        "choose_rm = widgets.SelectMultiple(\n",
        "    options=tbl.clients(),\n",
        "    #value=[options[0]],\n",
        "    rows=len(tbl.clients()),\n",
        "    description='Clients:',\n",
        "    disabled=False,\n",
        ")\n",
        "\n",
        "btn_invalid = widgets.Button(description=\"Choose Invalid\")\n",
        "btn_remove = widgets.Button(description=\"Remove\")\n",
        "btn_recover = widgets.Button(description=\"Recover\")\n",
        "btn_save = widgets.Button(description=\"Save\")\n",
        "\n",
        "output2 = widgets.Output()\n",
        "\n",
        "btns = widgets.VBox([btn_invalid, btn_remove, btn_recover, btn_save]) \n",
        "hbox = widgets.HBox([choose_rm, btns])\n",
        "ui = widgets.VBox([hbox, output2])\n",
        "\n",
        "def update_output():\n",
        "    with output2:\n",
        "        for x in (tbl, sub_daily, sub_weekly):\n",
        "            display(x._table)\n",
        "            print()\n",
        "\n",
        "def on_invalid_clicked(change):\n",
        "    '''Choose clients with Invalid Access Tokens.'''\n",
        "    invalid = [t for t in tbl.tokens() if line.is_invalid_token(t)]\n",
        "    clients_rm = tbl.clients_from_tokens(invalid)\n",
        "    choose_rm.value = clients_rm\n",
        "    output2.clear_output()\n",
        "    with output2:\n",
        "        display(invalid)\n",
        "        display(clients_rm)\n",
        "        print()\n",
        "    update_output()\n",
        "\n",
        "def on_remove_clicked(change):\n",
        "    for i, x in enumerate((tbl, sub_daily, sub_weekly)):\n",
        "        #x.remove_clients(choose_rm.value)\n",
        "        del x[choose_rm.value]\n",
        "    choose_rm.options = tbl.clients()\n",
        "    choose_rm.rows = len(tbl.clients())\n",
        "    output2.clear_output()\n",
        "    update_output()\n",
        "\n",
        "def on_recover_clicked(change):\n",
        "    for i, x in enumerate((tbl, sub_daily, sub_weekly)):\n",
        "        x._table = backup[i]\n",
        "        backup[i] = copy.deepcopy(x._table)\n",
        "    choose_rm.options = tbl.clients()\n",
        "    choose_rm.rows = len(tbl.clients())\n",
        "    output2.clear_output()\n",
        "    update_output()\n",
        "\n",
        "def on_save_clicked(change):\n",
        "    #for x in (tbl, sub_daily, sub_weekly, sub_any):\n",
        "    for x in (tbl, sub_daily, sub_weekly):\n",
        "        x.save()\n",
        "    output2.clear_output()\n",
        "    with output2:\n",
        "        print('Done!\\n')\n",
        "    update_output()\n",
        "\n",
        "btn_invalid.on_click(on_invalid_clicked)\n",
        "btn_remove.on_click(on_remove_clicked)\n",
        "btn_recover.on_click(on_recover_clicked)\n",
        "btn_save.on_click(on_save_clicked)\n",
        "\n",
        "update_output()"
      ],
      "metadata": {
        "id": "lsM-srME9Dav"
      },
      "execution_count": 7,
      "outputs": []
    },
    {
      "cell_type": "markdown",
      "source": [
        "#### Show"
      ],
      "metadata": {
        "id": "HMH54K7OfhBb"
      }
    },
    {
      "cell_type": "code",
      "source": [
        "display(ui)"
      ],
      "metadata": {
        "id": "7yjU0crRe4xT"
      },
      "execution_count": null,
      "outputs": []
    },
    {
      "cell_type": "markdown",
      "source": [
        "### References\n",
        "Line Notify:\n",
        "- [LINE Notify ::My page](https://notify-bot.line.me/my/)\n",
        "- [上手 LINE Notify 不求人：一行代碼都不用寫的推播通知方法](https://blog.miniasp.com/post/2020/02/17/Go-Through-LINE-Notify-Without-Any-Code)\n",
        "- [筆記 - 更簡單的使用 LINE Notify](https://ithelp.ithome.com.tw/articles/10231992)\n",
        "- [LINE Notify ::services](https://notify-bot.line.me/my/services/)\n",
        "\n",
        "Google Could:\n",
        "- [news-digest – IAM & Admin – gdrive – Google Cloud console](https://console.cloud.google.com/iam-admin/serviceaccounts/details/101728028730105787803;edit=true/keys?authuser=1&project=gdrive-385220&supportedpurview=project)\n",
        "\n",
        "Vercel:\n",
        "- [Using the Python Runtime with Serverless Functions](https://vercel.com/docs/concepts/functions/serverless-functions/runtimes/python)"
      ],
      "metadata": {
        "id": "l9kvYn67Zue4"
      }
    },
    {
      "cell_type": "markdown",
      "source": [
        "#### Format of Config Files\n",
        "\n",
        "subscriptions_Daily.yml:\n",
        "```yaml\n",
        "- [['Tesla & SpaceX; Vehicle'], [GroupA, GroupB]]\n",
        "- [['Tech Titans'], [GroupA, GroupB]]\n",
        "- [[Finance], [GroupA, GroupB, GroupC]]\n",
        "- [[Taiwan], [GroupA, GroupB, GroupC]]\n",
        "- [[Crypto], [GroupA]]\n",
        "- [[IT, Science, '#AI', '#Robot'], [GroupA, GroupB, GroupC]]\n",
        "```\n",
        "\n",
        "subscriptions_Weekly.yml:\n",
        "```yaml\n",
        "- [[Technology], [GroupA, GroupB, GroupC]]\n",
        "```\n",
        "\n",
        "access_tokens.yml:\n",
        "```yaml\n",
        "GroupA: LINE_NOTIFY_ACCESS_TOKEN_OF_GROUP_A\n",
        "GroupB: LINE_NOTIFY_ACCESS_TOKEN_OF_GROUP_B\n",
        "GroupC: LINE_NOTIFY_ACCESS_TOKEN_OF_GROUP_C\n",
        "```"
      ],
      "metadata": {
        "id": "R4pJP6szlHX6"
      }
    },
    {
      "cell_type": "markdown",
      "source": [
        "### Test"
      ],
      "metadata": {
        "id": "O8RHHBiSg691"
      }
    },
    {
      "cell_type": "code",
      "source": [
        "#display(subscriptions)\n",
        "#display(tok_tbl)\n",
        "#display(output) # output from Step 1"
      ],
      "metadata": {
        "id": "VKqXWbKuDE40"
      },
      "execution_count": 9,
      "outputs": []
    }
  ]
}
