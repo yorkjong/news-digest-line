{
  "cells": [
    {
      "cell_type": "markdown",
      "metadata": {
        "id": "view-in-github",
        "colab_type": "text"
      },
      "source": [
        "<a href=\"https://colab.research.google.com/github/yorkjong/news-digest-line/blob/main/notebooks/news_notify.ipynb\" target=\"_parent\"><img src=\"https://colab.research.google.com/assets/colab-badge.svg\" alt=\"Open In Colab\"/></a>"
      ]
    },
    {
      "cell_type": "markdown",
      "metadata": {
        "id": "WR9eFgRx3Oak"
      },
      "source": [
        "### Install"
      ]
    },
    {
      "cell_type": "code",
      "execution_count": 1,
      "metadata": {
        "colab": {
          "base_uri": "https://localhost:8080/"
        },
        "id": "HhPa1e1tse76",
        "outputId": "22a84802-e3c2-480a-ed41-ef242eb5fae0",
        "cellView": "form"
      },
      "outputs": [
        {
          "output_type": "stream",
          "name": "stdout",
          "text": [
            "--2024-08-15 11:35:24--  https://raw.githubusercontent.com/yorkjong/news-digest/main/src/clip.py\n",
            "Resolving raw.githubusercontent.com (raw.githubusercontent.com)... 185.199.108.133, 185.199.109.133, 185.199.110.133, ...\n",
            "Connecting to raw.githubusercontent.com (raw.githubusercontent.com)|185.199.108.133|:443... connected.\n",
            "HTTP request sent, awaiting response... 200 OK\n",
            "Length: 8936 (8.7K) [text/plain]\n",
            "Saving to: ‘clip.py’\n",
            "\n",
            "\rclip.py               0%[                    ]       0  --.-KB/s               \rclip.py             100%[===================>]   8.73K  --.-KB/s    in 0s      \n",
            "\n",
            "2024-08-15 11:35:25 (59.2 MB/s) - ‘clip.py’ saved [8936/8936]\n",
            "\n",
            "--2024-08-15 11:35:25--  https://raw.githubusercontent.com/yorkjong/news-digest/main/src/op.py\n",
            "Resolving raw.githubusercontent.com (raw.githubusercontent.com)... 185.199.108.133, 185.199.109.133, 185.199.110.133, ...\n",
            "Connecting to raw.githubusercontent.com (raw.githubusercontent.com)|185.199.108.133|:443... connected.\n",
            "HTTP request sent, awaiting response... 200 OK\n",
            "Length: 5171 (5.0K) [text/plain]\n",
            "Saving to: ‘op.py’\n",
            "\n",
            "op.py               100%[===================>]   5.05K  --.-KB/s    in 0.001s  \n",
            "\n",
            "2024-08-15 11:35:25 (9.30 MB/s) - ‘op.py’ saved [5171/5171]\n",
            "\n",
            "--2024-08-15 11:35:25--  https://raw.githubusercontent.com/yorkjong/news-digest/main/src/hashtag.py\n",
            "Resolving raw.githubusercontent.com (raw.githubusercontent.com)... 185.199.108.133, 185.199.109.133, 185.199.110.133, ...\n",
            "Connecting to raw.githubusercontent.com (raw.githubusercontent.com)|185.199.108.133|:443... connected.\n",
            "HTTP request sent, awaiting response... 200 OK\n",
            "Length: 3804 (3.7K) [text/plain]\n",
            "Saving to: ‘hashtag.py’\n",
            "\n",
            "hashtag.py          100%[===================>]   3.71K  --.-KB/s    in 0s      \n",
            "\n",
            "2024-08-15 11:35:25 (49.3 MB/s) - ‘hashtag.py’ saved [3804/3804]\n",
            "\n",
            "--2024-08-15 11:35:25--  https://raw.githubusercontent.com/yorkjong/news-digest-line/main/src/line.py\n",
            "Resolving raw.githubusercontent.com (raw.githubusercontent.com)... 185.199.108.133, 185.199.109.133, 185.199.110.133, ...\n",
            "Connecting to raw.githubusercontent.com (raw.githubusercontent.com)|185.199.108.133|:443... connected.\n",
            "HTTP request sent, awaiting response... 200 OK\n",
            "Length: 4405 (4.3K) [text/plain]\n",
            "Saving to: ‘line.py’\n",
            "\n",
            "line.py             100%[===================>]   4.30K  --.-KB/s    in 0s      \n",
            "\n",
            "2024-08-15 11:35:25 (38.4 MB/s) - ‘line.py’ saved [4405/4405]\n",
            "\n",
            "--2024-08-15 11:35:26--  https://raw.githubusercontent.com/yorkjong/news-digest-line/main/src/gdrive.py\n",
            "Resolving raw.githubusercontent.com (raw.githubusercontent.com)... 185.199.109.133, 185.199.111.133, 185.199.108.133, ...\n",
            "Connecting to raw.githubusercontent.com (raw.githubusercontent.com)|185.199.109.133|:443... connected.\n",
            "HTTP request sent, awaiting response... 200 OK\n",
            "Length: 16338 (16K) [text/plain]\n",
            "Saving to: ‘gdrive.py’\n",
            "\n",
            "gdrive.py           100%[===================>]  15.96K  --.-KB/s    in 0.001s  \n",
            "\n",
            "2024-08-15 11:35:26 (19.5 MB/s) - ‘gdrive.py’ saved [16338/16338]\n",
            "\n"
          ]
        }
      ],
      "source": [
        "# @title Download Packages\n",
        "import os\n",
        "\n",
        "fns = ['clip.py', 'op.py', 'hashtag.py']\n",
        "\n",
        "for fn in fns:\n",
        "    if os.path.exists(fn):\n",
        "        os.remove(fn)\n",
        "    url = f'https://raw.githubusercontent.com/yorkjong/news-digest/main/src/{fn}'\n",
        "    !wget $url\n",
        "\n",
        "fns = ['line.py', 'gdrive.py']\n",
        "for fn in fns:\n",
        "    if os.path.exists(fn):\n",
        "        os.remove(fn)\n",
        "    url = f'https://raw.githubusercontent.com/yorkjong/news-digest-line/main/src/{fn}'\n",
        "    !wget $url"
      ]
    },
    {
      "cell_type": "code",
      "source": [
        "# @title Initialize\n",
        "import clip\n",
        "import line\n",
        "import hashtag\n",
        "from gdrive import TokenTable, Subscriptions"
      ],
      "metadata": {
        "cellView": "form",
        "id": "pVbPIEm0K25u"
      },
      "execution_count": 2,
      "outputs": []
    },
    {
      "cell_type": "code",
      "execution_count": 3,
      "metadata": {
        "id": "7Ei5RtsMcJDN",
        "cellView": "form"
      },
      "outputs": [],
      "source": [
        "# @title Setting Environment Variables for Security Data\n",
        "from google.colab import userdata\n",
        "\n",
        "os.environ['SERVICE_ACCOUNT_INFO'] = userdata.get('NEWS_NOTIFY.SERVICE_ACCOUNT_INFO')\n",
        "os.environ['FOLDER_ID'] = userdata.get('NEWS_NOTIFY.FOLDER_ID')\n",
        "\n",
        "#import json\n",
        "#data = json.loads(os.environ['SERVICE_ACCOUNT_INFO'])\n",
        "#json.dumps(data, separators=(',', ':'))"
      ]
    },
    {
      "cell_type": "markdown",
      "metadata": {
        "id": "I8-Wcwwq5ixa"
      },
      "source": [
        "### Execute Actions Step by Step"
      ]
    },
    {
      "cell_type": "code",
      "execution_count": 4,
      "metadata": {
        "id": "we4a197PH1Li"
      },
      "outputs": [],
      "source": [
        "#@title Step 1. Pick a **period** of the news { run: \"auto\", display-mode: \"form\" }\n",
        "period = \"Today\" #@param [\"Today\", \"Yesterday\", \"Recent 2 Days\", \"Recent 7 Days\"]\n",
        "\n",
        "def news_today():\n",
        "    from datetime import datetime\n",
        "    today = datetime.today().strftime('%Y_%m_%d')\n",
        "    last = clip.get_recent_journal_filenames(1)[0][:-3]\n",
        "    if today != last:\n",
        "        print(f'last date: {last}')\n",
        "        print(f'today: {today}')\n",
        "    return clip.get_latest_journal()\n",
        "\n",
        "def news_yesterday():\n",
        "    fns = clip.get_recent_journal_filenames(2)\n",
        "    return clip.get_journal(fns[-2])\n",
        "\n",
        "def news_recent2days():\n",
        "    return clip.merge_recent_journals(days=2)\n",
        "\n",
        "def news_recent7days():\n",
        "    return clip.merge_recent_journals(days=7)\n",
        "\n",
        "period2func = {\n",
        "    'Today': news_today,\n",
        "    'Yesterday': news_yesterday,\n",
        "    'Recent 2 Days': news_recent2days,\n",
        "    'Recent 7 Days': news_recent7days,\n",
        "}\n",
        "\n",
        "content = period2func[period]()\n",
        "\n",
        "import ipywidgets as widgets\n",
        "output = widgets.Output()\n",
        "with output:\n",
        "    print(content)"
      ]
    },
    {
      "cell_type": "code",
      "execution_count": 5,
      "metadata": {
        "id": "Wqk2cZQk6KjR"
      },
      "outputs": [],
      "source": [
        "#@title Step 2. Pick a publication **frequency** { run: \"auto\", display-mode: \"form\" }\n",
        "frequency = \"Daily\" #@param [\"Daily\", \"Weekly\", \"Any\"]\n",
        "\n",
        "\n",
        "subscriptions = (\n",
        "    (('Tesla & SpaceX; Vehicle'), ('GroupA', 'GroupB')),\n",
        "    (('Taiwan',), ('GroupA', 'GroupC')),\n",
        "    (('Crypto',), ('GroupC',)),\n",
        "    (('IT', 'Science', '#AI', '#Robot'), ('GroupB',)),\n",
        ")\n",
        "\n",
        "def gdrive_load_YAML(filename):\n",
        "    import yaml\n",
        "    path = f\"/content/drive/My Drive/news-digest/{filename}\"\n",
        "    if os.path.exists(path):\n",
        "        with open(path, 'r') as f:\n",
        "             return yaml.safe_load(f)\n",
        "\n",
        "#subscriptions = gdrive_load_YAML(f\"subscriptions_{frequency}.yml\")\n",
        "subscriptions = Subscriptions(f\"subscriptions_{frequency}.yml\")\n",
        "\n",
        "#display(subscriptions._table)"
      ]
    },
    {
      "cell_type": "code",
      "execution_count": 14,
      "metadata": {
        "id": "BzKyvK806hMl",
        "colab": {
          "base_uri": "https://localhost:8080/",
          "height": 235,
          "referenced_widgets": [
            "fa26d6a291a1434484327518cc558b66",
            "be64838e47914651a8a24e756e2fa5b8",
            "441672ae946045fa8db9a028ca7ce158",
            "aa8f40493ff74857a24e4afc60d46171",
            "282f1f9575f4447b82b652e70b61793e",
            "af2024aff47448fbbc362f5686191c05",
            "db728dab7995474f914d6d8030f1fedf",
            "b5d097c0c3814038b63e1d0a59298f0b",
            "06697fee75bf43c1a32ab7f7cd7c4ab4",
            "7eb0af37e2de4c8091cf0a4a16dfa7c6",
            "6781109c14664716aed36724c54a7d51",
            "2f839768c58e4590b8ae80f06df6d0e3",
            "a025164073784e2fb6541b45d24bc065",
            "d2b1a3f1483f494f938df672b522c960",
            "993a4f63cd99461cb4bf534abce1b2a8",
            "bc40ab9194414b0e803f6d652a1a8e99"
          ]
        },
        "outputId": "4ae010e1-0f25-4573-9a9d-128ede0f0dd1"
      },
      "outputs": [
        {
          "output_type": "display_data",
          "data": {
            "text/plain": [
              "Tab(children=(Output(), Output(), Output(), Output(), Output(), Output(), Output()), _titles={'0': \"['Tesla & …"
            ],
            "application/vnd.jupyter.widget-view+json": {
              "version_major": 2,
              "version_minor": 0,
              "model_id": "fa26d6a291a1434484327518cc558b66"
            }
          },
          "metadata": {}
        }
      ],
      "source": [
        "#@title Step 3. Line Notify { display-mode: \"form\" }\n",
        "mock_mode = True #@param {type:\"boolean\"}\n",
        "show_headings = True #@param {type:\"boolean\"}\n",
        "\n",
        "import time\n",
        "import ipywidgets as widgets\n",
        "import yaml\n",
        "\n",
        "tok_tbl = {\n",
        "    'GroupA': 'LINE_NOTIFY_ACCESS_TOKEN_OF_GROUP_A',\n",
        "    'GroupB': 'LINE_NOTIFY_ACCESS_TOKEN_OF_GROUP_B',\n",
        "    'GroupC': 'LINE_NOTIFY_ACCESS_TOKEN_OF_GROUP_C',\n",
        "}\n",
        "\n",
        "#tok_tbl = gdrive_load_YAML(\"access_tokens.yml\")\n",
        "tok_tbl = TokenTable('access_tokens.yml')\n",
        "\n",
        "def create_outputs():\n",
        "    topics = [str(t) for t, _ in subscriptions]\n",
        "    tab = widgets.Tab()\n",
        "    outputs = [widgets.Output() for name in topics]\n",
        "    tab.children = outputs\n",
        "    for i, t in enumerate(topics):\n",
        "        tab.set_title(i, t)\n",
        "    display(tab)\n",
        "    return outputs\n",
        "\n",
        "def notify():\n",
        "    if mock_mode:\n",
        "        outputs = create_outputs()\n",
        "    for i, (topics, clients) in enumerate(subscriptions):\n",
        "        headings = [topic for topic in topics if not topic.startswith('#')]\n",
        "        tags = [topic for topic in topics if topic.startswith('#')]\n",
        "        categories = headings\n",
        "        if not categories and tags:\n",
        "            categories = clip.get_categories(content)\n",
        "        if tags:\n",
        "            lines = clip.get_lines_of_categories(categories, content, True, True)\n",
        "            lines = hashtag.get_lines_with_any_hashtags(lines, tags)\n",
        "            with_headings = True if headings and show_headings else False\n",
        "            lines = clip.get_lines_of_categories(categories, '\\n'.join(lines), False, with_headings)\n",
        "        else:\n",
        "            lines = clip.get_lines_of_categories(categories, content, False, show_headings)\n",
        "        if not lines:\n",
        "            continue\n",
        "        text = clip.markdown_to_readable('\\n'.join(lines))\n",
        "        message = f'\\n{text}'\n",
        "\n",
        "        if mock_mode:\n",
        "            with outputs[i]:\n",
        "                print(message)\n",
        "\n",
        "        for receiver in clients:\n",
        "            token = tok_tbl[receiver]\n",
        "            if not mock_mode:\n",
        "                line.notify_message(message, token)\n",
        "            #if not mock_mode:\n",
        "            #    time.sleep(1)\n",
        "\n",
        "def notify_with_checks():\n",
        "    if period in ('Today', 'Yesterday'):\n",
        "        if frequency not in ('Daily', 'Any'):\n",
        "            print(f'The period is \"{period}\"')\n",
        "            print('The frequency must be \"Daily\" or \"Any\"')\n",
        "            return\n",
        "    elif period in ('Recent 7 Days',):\n",
        "        if frequency not in ('Weekly', 'Any'):\n",
        "            print(f'The period is \"{period}\"')\n",
        "            print('The frequency must be \"Weekly\" or \"Any\"')\n",
        "            return\n",
        "    elif period in ('Recent 2 Days',):\n",
        "        if frequency not in ('2 Daily', 'Any'):\n",
        "            print(f'The period is \"{period}\"')\n",
        "            print('The frequency must be \"2 Daily\" or \"Any\"')\n",
        "            return\n",
        "    notify()\n",
        "\n",
        "notify_with_checks()"
      ]
    },
    {
      "cell_type": "markdown",
      "metadata": {
        "id": "43d9e9bn86hF"
      },
      "source": [
        "### Remove Clients"
      ]
    },
    {
      "cell_type": "markdown",
      "metadata": {
        "id": "BxT0MRZWfI0T"
      },
      "source": [
        "#### Code"
      ]
    },
    {
      "cell_type": "code",
      "execution_count": 7,
      "metadata": {
        "id": "JpfB5BNHECO0"
      },
      "outputs": [],
      "source": [
        "import copy\n",
        "\n",
        "tbl = TokenTable('access_tokens.yml')\n",
        "sub_daily = Subscriptions(\"subscriptions_Daily.yml\")\n",
        "sub_weekly = Subscriptions(\"subscriptions_Weekly.yml\")\n",
        "#sub_any = Subscriptions(f\"subscriptions_Any.yml\")\n",
        "\n",
        "backup = []\n",
        "for x in (tbl, sub_daily, sub_weekly):\n",
        "    backup.append(copy.deepcopy(x._table))"
      ]
    },
    {
      "cell_type": "code",
      "execution_count": 8,
      "metadata": {
        "id": "lsM-srME9Dav"
      },
      "outputs": [],
      "source": [
        "import ipywidgets as widgets\n",
        "\n",
        "choose_rm = widgets.SelectMultiple(\n",
        "    options=tbl.clients(),\n",
        "    #value=[options[0]],\n",
        "    rows=len(tbl.clients()),\n",
        "    description='Clients:',\n",
        "    disabled=False,\n",
        ")\n",
        "\n",
        "btn_invalid = widgets.Button(description=\"Choose Invalid\")\n",
        "btn_remove = widgets.Button(description=\"Remove\")\n",
        "btn_recover = widgets.Button(description=\"Recover\")\n",
        "btn_save = widgets.Button(description=\"Save\")\n",
        "\n",
        "output2 = widgets.Output()\n",
        "\n",
        "btns = widgets.VBox([btn_invalid, btn_remove, btn_recover, btn_save])\n",
        "hbox = widgets.HBox([choose_rm, btns])\n",
        "ui = widgets.VBox([hbox, output2])\n",
        "\n",
        "def update_output():\n",
        "    with output2:\n",
        "        for x in (tbl, sub_daily, sub_weekly):\n",
        "            display(x._table)\n",
        "            print()\n",
        "\n",
        "def on_invalid_clicked(change):\n",
        "    '''Choose clients with Invalid Access Tokens.'''\n",
        "    invalid = [t for t in tbl.tokens() if line.is_invalid_token(t)]\n",
        "    clients_rm = tbl.clients_from_tokens(invalid)\n",
        "    choose_rm.value = clients_rm\n",
        "    output2.clear_output()\n",
        "    with output2:\n",
        "        display(invalid)\n",
        "        display(clients_rm)\n",
        "        print()\n",
        "    update_output()\n",
        "\n",
        "def on_remove_clicked(change):\n",
        "    for i, x in enumerate((tbl, sub_daily, sub_weekly)):\n",
        "        #x.remove_clients(choose_rm.value)\n",
        "        del x[choose_rm.value]\n",
        "    choose_rm.options = tbl.clients()\n",
        "    choose_rm.rows = len(tbl.clients())\n",
        "    output2.clear_output()\n",
        "    update_output()\n",
        "\n",
        "def on_recover_clicked(change):\n",
        "    for i, x in enumerate((tbl, sub_daily, sub_weekly)):\n",
        "        x._table = backup[i]\n",
        "        backup[i] = copy.deepcopy(x._table)\n",
        "    choose_rm.options = tbl.clients()\n",
        "    choose_rm.rows = len(tbl.clients())\n",
        "    output2.clear_output()\n",
        "    update_output()\n",
        "\n",
        "def on_save_clicked(change):\n",
        "    #for x in (tbl, sub_daily, sub_weekly, sub_any):\n",
        "    for x in (tbl, sub_daily, sub_weekly):\n",
        "        x.save()\n",
        "    output2.clear_output()\n",
        "    with output2:\n",
        "        print('Done!\\n')\n",
        "    update_output()\n",
        "\n",
        "btn_invalid.on_click(on_invalid_clicked)\n",
        "btn_remove.on_click(on_remove_clicked)\n",
        "btn_recover.on_click(on_recover_clicked)\n",
        "btn_save.on_click(on_save_clicked)\n",
        "\n",
        "update_output()"
      ]
    },
    {
      "cell_type": "markdown",
      "metadata": {
        "id": "HMH54K7OfhBb"
      },
      "source": [
        "#### Show"
      ]
    },
    {
      "cell_type": "code",
      "execution_count": 9,
      "metadata": {
        "id": "7yjU0crRe4xT"
      },
      "outputs": [],
      "source": [
        "#display(ui)"
      ]
    },
    {
      "cell_type": "markdown",
      "metadata": {
        "id": "APceoV3blvBs"
      },
      "source": [
        "#### Rename"
      ]
    },
    {
      "cell_type": "code",
      "execution_count": 10,
      "metadata": {
        "id": "t2eTIqQ4kDd7"
      },
      "outputs": [],
      "source": [
        "#tbl.clients()\n",
        "#for x in (tbl, sub_daily, sub_weekly):\n",
        "#    x.rename('*期 / 股 *南天門未來 頂尖對談 summit meeting', '南天門未來')\n",
        "#choose_rm.options = tbl.clients()\n",
        "#output2.clear_output()\n",
        "#update_output()"
      ]
    },
    {
      "cell_type": "markdown",
      "metadata": {
        "id": "l9kvYn67Zue4"
      },
      "source": [
        "### References\n",
        "news-digest:\n",
        "- [Line通知訂閱連結](https://news-digest.vercel.app/LineOauth)\n",
        "- [Line Notify 訂閱 news-digest 新聞](https://news-digest.vercel.app/#/page/Line%20Notify%20訂閱%20news-digest%20新聞)\n",
        "\n",
        "Line Notify:\n",
        "- [LINE Notify已連動的服務](https://notify-bot.line.me/my/)\n",
        "- [上手 LINE Notify 不求人：一行代碼都不用寫的推播通知方法](https://blog.miniasp.com/post/2020/02/17/Go-Through-LINE-Notify-Without-Any-Code)\n",
        "- [筆記 - 更簡單的使用 LINE Notify](https://ithelp.ithome.com.tw/articles/10231992)\n",
        "- [LINE Notify ::services](https://notify-bot.line.me/my/services/)\n",
        "\n",
        "Google Could:\n",
        "- [news-digest – IAM & Admin – gdrive – Google Cloud console](https://console.cloud.google.com/iam-admin/serviceaccounts/details/101728028730105787803;edit=true/keys?authuser=1&project=gdrive-385220&supportedpurview=project)\n",
        "\n",
        "Vercel:\n",
        "- [Using the Python Runtime with Serverless Functions](https://vercel.com/docs/concepts/functions/serverless-functions/runtimes/python)"
      ]
    },
    {
      "cell_type": "markdown",
      "metadata": {
        "id": "R4pJP6szlHX6"
      },
      "source": [
        "#### Format of Config Files\n",
        "\n",
        "subscriptions_Daily.yml:\n",
        "```yaml\n",
        "- [['Tesla & SpaceX; Vehicle'], [GroupA, GroupB]]\n",
        "- [['Tech Titans'], [GroupA, GroupB]]\n",
        "- [[Finance], [GroupA, GroupB, GroupC]]\n",
        "- [[Taiwan], [GroupA, GroupB, GroupC]]\n",
        "- [[Crypto], [GroupA]]\n",
        "- [[IT, Science, '#AI', '#Robot'], [GroupA, GroupB, GroupC]]\n",
        "```\n",
        "\n",
        "subscriptions_Weekly.yml:\n",
        "```yaml\n",
        "- [[Technology], [GroupA, GroupB, GroupC]]\n",
        "```\n",
        "\n",
        "access_tokens.yml:\n",
        "```yaml\n",
        "GroupA: LINE_NOTIFY_ACCESS_TOKEN_OF_GROUP_A\n",
        "GroupB: LINE_NOTIFY_ACCESS_TOKEN_OF_GROUP_B\n",
        "GroupC: LINE_NOTIFY_ACCESS_TOKEN_OF_GROUP_C\n",
        "```"
      ]
    },
    {
      "cell_type": "markdown",
      "metadata": {
        "id": "O8RHHBiSg691"
      },
      "source": [
        "### Test"
      ]
    },
    {
      "cell_type": "code",
      "execution_count": 11,
      "metadata": {
        "id": "VKqXWbKuDE40"
      },
      "outputs": [],
      "source": [
        "#display(subscriptions)\n",
        "#display(tok_tbl._table)\n",
        "#display(output) # output from Step 1"
      ]
    },
    {
      "cell_type": "code",
      "execution_count": 12,
      "metadata": {
        "colab": {
          "base_uri": "https://localhost:8080/"
        },
        "id": "Q-gk7XH9CGJ1",
        "outputId": "2a8a3bc8-b1f8-44db-c871-a83b34641e6c"
      },
      "outputs": [
        {
          "output_type": "execute_result",
          "data": {
            "text/plain": [
              "['Tech Industry', 'Finance', 'Crypto']"
            ]
          },
          "metadata": {},
          "execution_count": 12
        }
      ],
      "source": [
        "sub_daily.topics('Mini group')"
      ]
    }
  ],
  "metadata": {
    "colab": {
      "collapsed_sections": [
        "WR9eFgRx3Oak",
        "43d9e9bn86hF",
        "BxT0MRZWfI0T",
        "l9kvYn67Zue4",
        "O8RHHBiSg691"
      ],
      "provenance": [],
      "cell_execution_strategy": "setup",
      "mount_file_id": "1pd6RYF5VnNYJ0wqaPed8Vk2EVgzcMEVY",
      "authorship_tag": "ABX9TyMHI21Q1ERqIvaKw2/PgOdD",
      "include_colab_link": true
    },
    "kernelspec": {
      "display_name": "Python 3",
      "name": "python3"
    },
    "language_info": {
      "name": "python"
    },
    "widgets": {
      "application/vnd.jupyter.widget-state+json": {
        "fa26d6a291a1434484327518cc558b66": {
          "model_module": "@jupyter-widgets/controls",
          "model_name": "TabModel",
          "model_module_version": "1.5.0",
          "state": {
            "_dom_classes": [],
            "_model_module": "@jupyter-widgets/controls",
            "_model_module_version": "1.5.0",
            "_model_name": "TabModel",
            "_titles": {
              "0": "['Tesla & SpaceX; Vehicle']",
              "1": "['Tech Industry']",
              "2": "['Finance']",
              "3": "['Taiwan']",
              "4": "['Crypto']",
              "5": "['IT']",
              "6": "['#AI', '#robotics', '#brain', 'IT', 'Science', 'Tesla', 'Tech', 'Health', 'Taiwan', 'Crypto']"
            },
            "_view_count": null,
            "_view_module": "@jupyter-widgets/controls",
            "_view_module_version": "1.5.0",
            "_view_name": "TabView",
            "box_style": "",
            "children": [
              "IPY_MODEL_be64838e47914651a8a24e756e2fa5b8",
              "IPY_MODEL_441672ae946045fa8db9a028ca7ce158",
              "IPY_MODEL_aa8f40493ff74857a24e4afc60d46171",
              "IPY_MODEL_282f1f9575f4447b82b652e70b61793e",
              "IPY_MODEL_af2024aff47448fbbc362f5686191c05",
              "IPY_MODEL_db728dab7995474f914d6d8030f1fedf",
              "IPY_MODEL_b5d097c0c3814038b63e1d0a59298f0b"
            ],
            "layout": "IPY_MODEL_06697fee75bf43c1a32ab7f7cd7c4ab4",
            "selected_index": 0
          }
        },
        "be64838e47914651a8a24e756e2fa5b8": {
          "model_module": "@jupyter-widgets/output",
          "model_name": "OutputModel",
          "model_module_version": "1.0.0",
          "state": {
            "_dom_classes": [],
            "_model_module": "@jupyter-widgets/output",
            "_model_module_version": "1.0.0",
            "_model_name": "OutputModel",
            "_view_count": null,
            "_view_module": "@jupyter-widgets/output",
            "_view_module_version": "1.0.0",
            "_view_name": "OutputView",
            "layout": "IPY_MODEL_7eb0af37e2de4c8091cf0a4a16dfa7c6",
            "msg_id": "",
            "outputs": [
              {
                "output_type": "stream",
                "name": "stdout",
                "text": [
                  "\n",
                  "Tesla & SpaceX; Vehicle:\n",
                  "\n",
                  "特斯拉資深員工做了近 8 年選擇辭職了，親揭為何對馬斯克失去信心 https://buzzorange.com/techorange/2024/08/15/why-senior-employees-left-tesla/\n",
                  "\n",
                  "馬斯克的xAI推出適用於X平台的Grok-2人工智慧助手 https://news.cnyes.com/news/id/5684916\n",
                  "\n",
                  "\n"
                ]
              }
            ]
          }
        },
        "441672ae946045fa8db9a028ca7ce158": {
          "model_module": "@jupyter-widgets/output",
          "model_name": "OutputModel",
          "model_module_version": "1.0.0",
          "state": {
            "_dom_classes": [],
            "_model_module": "@jupyter-widgets/output",
            "_model_module_version": "1.0.0",
            "_model_name": "OutputModel",
            "_view_count": null,
            "_view_module": "@jupyter-widgets/output",
            "_view_module_version": "1.0.0",
            "_view_name": "OutputView",
            "layout": "IPY_MODEL_6781109c14664716aed36724c54a7d51",
            "msg_id": "",
            "outputs": [
              {
                "output_type": "stream",
                "name": "stdout",
                "text": [
                  "\n",
                  "Tech Industry:\n",
                  "\n",
                  "生成式AI應用遍地開花　微軟揭雲端/資料中心發展策略 https://www.eettaiwan.com/20240815nt11-gen-ai-cloud/\n",
                  "\n",
                  "https://tw.stock.yahoo.com/news/研調-今年全球ai手機ap出貨估2-6億顆-2028年前年複合成長65-035058209.html\n",
                  "\n",
                  "https://tw.news.yahoo.com/ai和減肥藥長線仍看俏-法人建議定期定額投資科技-生技股-032329866.html\n",
                  "\n",
                  "Google 領先蘋果推出完整端到端 AI 體驗，多模態成亮點 https://technews.tw/2024/08/15/googles-live-demo-of-gemini-ramps-up-pressure-on-apple-as-ai-reaches-smartphone-users/\n",
                  "\n",
                  "「每周只上一天班」谷歌散漫制度遭前CEO怒斥：输给OpenAI，再下去要输创业公司了 https://www.jiqizhixin.com/articles/2024-08-15-6\n",
                  "\n",
                  "思科財報超預期，為了AI將裁員6000人，股價大漲6%！ https://hk.investing.com/news/stock-market-news/article-599691\n",
                  "\n",
                  "ARM開發新GPU挑戰輝達 擴大以色列團隊迎戰AI時 https://news.cnyes.com/news/id/5684661\n",
                  "\n",
                  "科技股暴跌後 方舟伍德再次選擇大舉抄底買入 https://news.cnyes.com/news/id/5683720\n",
                  "\n",
                  "PC出貨不斷超出預期，聯想集團首季營收增長20% https://uanalyze.com.tw/articles/968825997\n",
                  "\n",
                  "報導：軟銀曾與英特爾討論合作開發AI晶片 以對抗輝達 https://news.cnyes.com/news/id/5684926\n",
                  "\n",
                  "Akeana 獲逾億美元資金挹注，正式推出 RISC-V CPU 產品線，挑戰 Arm 龍頭地位 https://www.techbang.com/posts/117533-akeana-risc-v-cpu-arm\n",
                  "\n",
                  "《外資精點》高盛:聯想首財季表現符預期,維持「買入」評級 https://news.cnyes.com/news/id/5685193\n",
                  "\n",
                  "提供更多儲存容量選擇，WD再度推出採用ePMR技術的新硬碟 https://www.ithome.com.tw/review/164487\n",
                  "\n",
                  "\n"
                ]
              }
            ]
          }
        },
        "aa8f40493ff74857a24e4afc60d46171": {
          "model_module": "@jupyter-widgets/output",
          "model_name": "OutputModel",
          "model_module_version": "1.0.0",
          "state": {
            "_dom_classes": [],
            "_model_module": "@jupyter-widgets/output",
            "_model_module_version": "1.0.0",
            "_model_name": "OutputModel",
            "_view_count": null,
            "_view_module": "@jupyter-widgets/output",
            "_view_module_version": "1.0.0",
            "_view_name": "OutputView",
            "layout": "IPY_MODEL_2f839768c58e4590b8ae80f06df6d0e3",
            "msg_id": "",
            "outputs": [
              {
                "output_type": "stream",
                "name": "stdout",
                "text": [
                  "\n",
                  "Finance:\n",
                  "\n",
                  "京東Q2財報超預期，利潤率增長，股價上漲 https://hk.investing.com/news/stock-market-news/article-600004\n",
                  "\n",
                  "https://tw.stock.yahoo.com/news/財報-瑞銀q2大賺11億美元-輕鬆打敗分析師預期-142004944.html\n",
                  "\n",
                  "投資人消化通膨數據 美債殖利率走升 https://news.cnyes.com/news/id/5685374\n",
                  "\n",
                  "〈貴金屬盤後〉美7月CPI上升 Fed 9月恐難大幅降息 黃金跌1% https://news.cnyes.com/news/id/5684195\n",
                  "\n",
                  "〈陸港盤後〉市場不甩經濟利空 A股三大指數收漲 https://news.cnyes.com/news/id/5684928\n",
                  "\n",
                  "\n"
                ]
              }
            ]
          }
        },
        "282f1f9575f4447b82b652e70b61793e": {
          "model_module": "@jupyter-widgets/output",
          "model_name": "OutputModel",
          "model_module_version": "1.0.0",
          "state": {
            "_dom_classes": [],
            "_model_module": "@jupyter-widgets/output",
            "_model_module_version": "1.0.0",
            "_model_name": "OutputModel",
            "_view_count": null,
            "_view_module": "@jupyter-widgets/output",
            "_view_module_version": "1.0.0",
            "_view_name": "OutputView",
            "layout": "IPY_MODEL_a025164073784e2fb6541b45d24bc065",
            "msg_id": "",
            "outputs": [
              {
                "output_type": "stream",
                "name": "stdout",
                "text": [
                  "\n",
                  "Taiwan:\n",
                  "\n",
                  "https://tw.news.yahoo.com/台北國際自動化展迎ai大咖-黃仁勳來台引爆機器人投資熱潮-041510199.html\n",
                  "\n",
                  "傳黃仁勳下周來台！「黃仁勳AI妖股」先反應 慧友盤下急拉攻漲停 https://www.wealth.com.tw/articles/812f72fd-ae7d-437f-8679-3b7bebdd39dc\n",
                  "\n",
                  "元太Q2營收76.56億元 每股賺1.76元 下半年客戶彩色電子紙新品陸續上市、預期帶動換機潮 https://www.wealth.com.tw/articles/250e4c8e-fda6-4a27-a834-501588a61dc9\n",
                  "\n",
                  "技嘉上半年EPS 7.84元賺贏去年 AI伺服器動能持續強勁 https://news.cnyes.com/news/id/5684777\n",
                  "\n",
                  "〈精材法說〉調升全年資本支出至20億元以上 因應新增測試需求 https://news.cnyes.com/news/id/5685092\n",
                  "\n",
                  "藥華藥財報亮麗 第二季本業獲利季增24倍 https://www.moneyweekly.com.tw/ArticleData/Info/Article/150534/?BackID=93\n",
                  "\n",
                  "上櫃公司上半年7成4有獲利 14家賺逾1個股本 https://news.cnyes.com/news/id/5685048\n",
                  "\n",
                  "興櫃公司上半年整體獲利年增1.5倍！航運、電機及半導體最旺 https://news.cnyes.com/news/id/5685466\n",
                  "\n",
                  "金管會證實悠遊付、簡單付9月開通TWQR購物 九大電支全面到位 https://news.cnyes.com/news/id/5644614\n",
                  "\n",
                  "\n"
                ]
              }
            ]
          }
        },
        "af2024aff47448fbbc362f5686191c05": {
          "model_module": "@jupyter-widgets/output",
          "model_name": "OutputModel",
          "model_module_version": "1.0.0",
          "state": {
            "_dom_classes": [],
            "_model_module": "@jupyter-widgets/output",
            "_model_module_version": "1.0.0",
            "_model_name": "OutputModel",
            "_view_count": null,
            "_view_module": "@jupyter-widgets/output",
            "_view_module_version": "1.0.0",
            "_view_name": "OutputView",
            "layout": "IPY_MODEL_d2b1a3f1483f494f938df672b522c960",
            "msg_id": "",
            "outputs": []
          }
        },
        "db728dab7995474f914d6d8030f1fedf": {
          "model_module": "@jupyter-widgets/output",
          "model_name": "OutputModel",
          "model_module_version": "1.0.0",
          "state": {
            "_dom_classes": [],
            "_model_module": "@jupyter-widgets/output",
            "_model_module_version": "1.0.0",
            "_model_name": "OutputModel",
            "_view_count": null,
            "_view_module": "@jupyter-widgets/output",
            "_view_module_version": "1.0.0",
            "_view_name": "OutputView",
            "layout": "IPY_MODEL_993a4f63cd99461cb4bf534abce1b2a8",
            "msg_id": "",
            "outputs": [
              {
                "output_type": "stream",
                "name": "stdout",
                "text": [
                  "\n",
                  "IT:\n",
                  "\n",
                  "「這隻皮卡丘是人還是AI畫的？」當日本動漫成為AI的侵權天堂時，誰來保護原作者的權利？ https://dq.yam.com/post/16198\n",
                  "\n",
                  "台水耗時4年用AI-聲學偵測漏水準確率達8成 獲IWA頒發「專案創新獎」 https://news.cnyes.com/news/id/5685087\n",
                  "\n",
                  "癌症機構建置應用生成式 AI 的關鍵考量 https://www.cio.com.tw/medical-industry-key-considerations-for-building-application-generated-ai-by-cancer-agency/\n",
                  "\n",
                  "https://tw.news.yahoo.com/遠傳助力中研院-開發全台首部5g-ai生態聲景蒐集器-072106684.html\n",
                  "\n",
                  "https://tw.stock.yahoo.com/news/精誠推動生成式ai落地應用-打造智慧下水道監測環境-043710205.html\n",
                  "\n",
                  "AI人工智慧應用犯罪偵察？台中市警局邀旅美學者分享 https://udn.com/news/story/7315/8163941\n",
                  "\n",
                  "推動教育科技 高師大成立全臺首座AI師培中心 https://www.ydn.com.tw/news/newsInsidePage?chapterID=1700643\n",
                  "\n",
                  "https://tw.news.yahoo.com/大-生必修ai課-北科大推創新教學育才-012240452.html\n",
                  "\n",
                  "\n"
                ]
              }
            ]
          }
        },
        "b5d097c0c3814038b63e1d0a59298f0b": {
          "model_module": "@jupyter-widgets/output",
          "model_name": "OutputModel",
          "model_module_version": "1.0.0",
          "state": {
            "_dom_classes": [],
            "_model_module": "@jupyter-widgets/output",
            "_model_module_version": "1.0.0",
            "_model_name": "OutputModel",
            "_view_count": null,
            "_view_module": "@jupyter-widgets/output",
            "_view_module_version": "1.0.0",
            "_view_name": "OutputView",
            "layout": "IPY_MODEL_bc40ab9194414b0e803f6d652a1a8e99",
            "msg_id": "",
            "outputs": [
              {
                "output_type": "stream",
                "name": "stdout",
                "text": [
                  "\n",
                  "IT:\n",
                  "\n",
                  "「這隻皮卡丘是人還是AI畫的？」當日本動漫成為AI的侵權天堂時，誰來保護原作者的權利？ https://dq.yam.com/post/16198\n",
                  "\n",
                  "台水耗時4年用AI-聲學偵測漏水準確率達8成 獲IWA頒發「專案創新獎」 https://news.cnyes.com/news/id/5685087\n",
                  "\n",
                  "癌症機構建置應用生成式 AI 的關鍵考量 https://www.cio.com.tw/medical-industry-key-considerations-for-building-application-generated-ai-by-cancer-agency/\n",
                  "\n",
                  "https://tw.news.yahoo.com/遠傳助力中研院-開發全台首部5g-ai生態聲景蒐集器-072106684.html\n",
                  "\n",
                  "https://tw.stock.yahoo.com/news/精誠推動生成式ai落地應用-打造智慧下水道監測環境-043710205.html\n",
                  "\n",
                  "AI人工智慧應用犯罪偵察？台中市警局邀旅美學者分享 https://udn.com/news/story/7315/8163941\n",
                  "\n",
                  "推動教育科技 高師大成立全臺首座AI師培中心 https://www.ydn.com.tw/news/newsInsidePage?chapterID=1700643\n",
                  "\n",
                  "https://tw.news.yahoo.com/大-生必修ai課-北科大推創新教學育才-012240452.html\n",
                  "\n",
                  "Tesla:\n",
                  "\n",
                  "馬斯克的xAI推出適用於X平台的Grok-2人工智慧助手 https://news.cnyes.com/news/id/5684916\n",
                  "\n",
                  "Tech:\n",
                  "\n",
                  "生成式AI應用遍地開花　微軟揭雲端/資料中心發展策略 https://www.eettaiwan.com/20240815nt11-gen-ai-cloud/\n",
                  "\n",
                  "https://tw.stock.yahoo.com/news/研調-今年全球ai手機ap出貨估2-6億顆-2028年前年複合成長65-035058209.html\n",
                  "\n",
                  "https://tw.news.yahoo.com/ai和減肥藥長線仍看俏-法人建議定期定額投資科技-生技股-032329866.html\n",
                  "\n",
                  "Google 領先蘋果推出完整端到端 AI 體驗，多模態成亮點 https://technews.tw/2024/08/15/googles-live-demo-of-gemini-ramps-up-pressure-on-apple-as-ai-reaches-smartphone-users/\n",
                  "\n",
                  "Taiwan:\n",
                  "\n",
                  "https://tw.news.yahoo.com/台北國際自動化展迎ai大咖-黃仁勳來台引爆機器人投資熱潮-041510199.html\n",
                  "\n",
                  "\n"
                ]
              }
            ]
          }
        },
        "06697fee75bf43c1a32ab7f7cd7c4ab4": {
          "model_module": "@jupyter-widgets/base",
          "model_name": "LayoutModel",
          "model_module_version": "1.2.0",
          "state": {
            "_model_module": "@jupyter-widgets/base",
            "_model_module_version": "1.2.0",
            "_model_name": "LayoutModel",
            "_view_count": null,
            "_view_module": "@jupyter-widgets/base",
            "_view_module_version": "1.2.0",
            "_view_name": "LayoutView",
            "align_content": null,
            "align_items": null,
            "align_self": null,
            "border": null,
            "bottom": null,
            "display": null,
            "flex": null,
            "flex_flow": null,
            "grid_area": null,
            "grid_auto_columns": null,
            "grid_auto_flow": null,
            "grid_auto_rows": null,
            "grid_column": null,
            "grid_gap": null,
            "grid_row": null,
            "grid_template_areas": null,
            "grid_template_columns": null,
            "grid_template_rows": null,
            "height": null,
            "justify_content": null,
            "justify_items": null,
            "left": null,
            "margin": null,
            "max_height": null,
            "max_width": null,
            "min_height": null,
            "min_width": null,
            "object_fit": null,
            "object_position": null,
            "order": null,
            "overflow": null,
            "overflow_x": null,
            "overflow_y": null,
            "padding": null,
            "right": null,
            "top": null,
            "visibility": null,
            "width": null
          }
        },
        "7eb0af37e2de4c8091cf0a4a16dfa7c6": {
          "model_module": "@jupyter-widgets/base",
          "model_name": "LayoutModel",
          "model_module_version": "1.2.0",
          "state": {
            "_model_module": "@jupyter-widgets/base",
            "_model_module_version": "1.2.0",
            "_model_name": "LayoutModel",
            "_view_count": null,
            "_view_module": "@jupyter-widgets/base",
            "_view_module_version": "1.2.0",
            "_view_name": "LayoutView",
            "align_content": null,
            "align_items": null,
            "align_self": null,
            "border": null,
            "bottom": null,
            "display": null,
            "flex": null,
            "flex_flow": null,
            "grid_area": null,
            "grid_auto_columns": null,
            "grid_auto_flow": null,
            "grid_auto_rows": null,
            "grid_column": null,
            "grid_gap": null,
            "grid_row": null,
            "grid_template_areas": null,
            "grid_template_columns": null,
            "grid_template_rows": null,
            "height": null,
            "justify_content": null,
            "justify_items": null,
            "left": null,
            "margin": null,
            "max_height": null,
            "max_width": null,
            "min_height": null,
            "min_width": null,
            "object_fit": null,
            "object_position": null,
            "order": null,
            "overflow": null,
            "overflow_x": null,
            "overflow_y": null,
            "padding": null,
            "right": null,
            "top": null,
            "visibility": null,
            "width": null
          }
        },
        "6781109c14664716aed36724c54a7d51": {
          "model_module": "@jupyter-widgets/base",
          "model_name": "LayoutModel",
          "model_module_version": "1.2.0",
          "state": {
            "_model_module": "@jupyter-widgets/base",
            "_model_module_version": "1.2.0",
            "_model_name": "LayoutModel",
            "_view_count": null,
            "_view_module": "@jupyter-widgets/base",
            "_view_module_version": "1.2.0",
            "_view_name": "LayoutView",
            "align_content": null,
            "align_items": null,
            "align_self": null,
            "border": null,
            "bottom": null,
            "display": null,
            "flex": null,
            "flex_flow": null,
            "grid_area": null,
            "grid_auto_columns": null,
            "grid_auto_flow": null,
            "grid_auto_rows": null,
            "grid_column": null,
            "grid_gap": null,
            "grid_row": null,
            "grid_template_areas": null,
            "grid_template_columns": null,
            "grid_template_rows": null,
            "height": null,
            "justify_content": null,
            "justify_items": null,
            "left": null,
            "margin": null,
            "max_height": null,
            "max_width": null,
            "min_height": null,
            "min_width": null,
            "object_fit": null,
            "object_position": null,
            "order": null,
            "overflow": null,
            "overflow_x": null,
            "overflow_y": null,
            "padding": null,
            "right": null,
            "top": null,
            "visibility": null,
            "width": null
          }
        },
        "2f839768c58e4590b8ae80f06df6d0e3": {
          "model_module": "@jupyter-widgets/base",
          "model_name": "LayoutModel",
          "model_module_version": "1.2.0",
          "state": {
            "_model_module": "@jupyter-widgets/base",
            "_model_module_version": "1.2.0",
            "_model_name": "LayoutModel",
            "_view_count": null,
            "_view_module": "@jupyter-widgets/base",
            "_view_module_version": "1.2.0",
            "_view_name": "LayoutView",
            "align_content": null,
            "align_items": null,
            "align_self": null,
            "border": null,
            "bottom": null,
            "display": null,
            "flex": null,
            "flex_flow": null,
            "grid_area": null,
            "grid_auto_columns": null,
            "grid_auto_flow": null,
            "grid_auto_rows": null,
            "grid_column": null,
            "grid_gap": null,
            "grid_row": null,
            "grid_template_areas": null,
            "grid_template_columns": null,
            "grid_template_rows": null,
            "height": null,
            "justify_content": null,
            "justify_items": null,
            "left": null,
            "margin": null,
            "max_height": null,
            "max_width": null,
            "min_height": null,
            "min_width": null,
            "object_fit": null,
            "object_position": null,
            "order": null,
            "overflow": null,
            "overflow_x": null,
            "overflow_y": null,
            "padding": null,
            "right": null,
            "top": null,
            "visibility": null,
            "width": null
          }
        },
        "a025164073784e2fb6541b45d24bc065": {
          "model_module": "@jupyter-widgets/base",
          "model_name": "LayoutModel",
          "model_module_version": "1.2.0",
          "state": {
            "_model_module": "@jupyter-widgets/base",
            "_model_module_version": "1.2.0",
            "_model_name": "LayoutModel",
            "_view_count": null,
            "_view_module": "@jupyter-widgets/base",
            "_view_module_version": "1.2.0",
            "_view_name": "LayoutView",
            "align_content": null,
            "align_items": null,
            "align_self": null,
            "border": null,
            "bottom": null,
            "display": null,
            "flex": null,
            "flex_flow": null,
            "grid_area": null,
            "grid_auto_columns": null,
            "grid_auto_flow": null,
            "grid_auto_rows": null,
            "grid_column": null,
            "grid_gap": null,
            "grid_row": null,
            "grid_template_areas": null,
            "grid_template_columns": null,
            "grid_template_rows": null,
            "height": null,
            "justify_content": null,
            "justify_items": null,
            "left": null,
            "margin": null,
            "max_height": null,
            "max_width": null,
            "min_height": null,
            "min_width": null,
            "object_fit": null,
            "object_position": null,
            "order": null,
            "overflow": null,
            "overflow_x": null,
            "overflow_y": null,
            "padding": null,
            "right": null,
            "top": null,
            "visibility": null,
            "width": null
          }
        },
        "d2b1a3f1483f494f938df672b522c960": {
          "model_module": "@jupyter-widgets/base",
          "model_name": "LayoutModel",
          "model_module_version": "1.2.0",
          "state": {
            "_model_module": "@jupyter-widgets/base",
            "_model_module_version": "1.2.0",
            "_model_name": "LayoutModel",
            "_view_count": null,
            "_view_module": "@jupyter-widgets/base",
            "_view_module_version": "1.2.0",
            "_view_name": "LayoutView",
            "align_content": null,
            "align_items": null,
            "align_self": null,
            "border": null,
            "bottom": null,
            "display": null,
            "flex": null,
            "flex_flow": null,
            "grid_area": null,
            "grid_auto_columns": null,
            "grid_auto_flow": null,
            "grid_auto_rows": null,
            "grid_column": null,
            "grid_gap": null,
            "grid_row": null,
            "grid_template_areas": null,
            "grid_template_columns": null,
            "grid_template_rows": null,
            "height": null,
            "justify_content": null,
            "justify_items": null,
            "left": null,
            "margin": null,
            "max_height": null,
            "max_width": null,
            "min_height": null,
            "min_width": null,
            "object_fit": null,
            "object_position": null,
            "order": null,
            "overflow": null,
            "overflow_x": null,
            "overflow_y": null,
            "padding": null,
            "right": null,
            "top": null,
            "visibility": null,
            "width": null
          }
        },
        "993a4f63cd99461cb4bf534abce1b2a8": {
          "model_module": "@jupyter-widgets/base",
          "model_name": "LayoutModel",
          "model_module_version": "1.2.0",
          "state": {
            "_model_module": "@jupyter-widgets/base",
            "_model_module_version": "1.2.0",
            "_model_name": "LayoutModel",
            "_view_count": null,
            "_view_module": "@jupyter-widgets/base",
            "_view_module_version": "1.2.0",
            "_view_name": "LayoutView",
            "align_content": null,
            "align_items": null,
            "align_self": null,
            "border": null,
            "bottom": null,
            "display": null,
            "flex": null,
            "flex_flow": null,
            "grid_area": null,
            "grid_auto_columns": null,
            "grid_auto_flow": null,
            "grid_auto_rows": null,
            "grid_column": null,
            "grid_gap": null,
            "grid_row": null,
            "grid_template_areas": null,
            "grid_template_columns": null,
            "grid_template_rows": null,
            "height": null,
            "justify_content": null,
            "justify_items": null,
            "left": null,
            "margin": null,
            "max_height": null,
            "max_width": null,
            "min_height": null,
            "min_width": null,
            "object_fit": null,
            "object_position": null,
            "order": null,
            "overflow": null,
            "overflow_x": null,
            "overflow_y": null,
            "padding": null,
            "right": null,
            "top": null,
            "visibility": null,
            "width": null
          }
        },
        "bc40ab9194414b0e803f6d652a1a8e99": {
          "model_module": "@jupyter-widgets/base",
          "model_name": "LayoutModel",
          "model_module_version": "1.2.0",
          "state": {
            "_model_module": "@jupyter-widgets/base",
            "_model_module_version": "1.2.0",
            "_model_name": "LayoutModel",
            "_view_count": null,
            "_view_module": "@jupyter-widgets/base",
            "_view_module_version": "1.2.0",
            "_view_name": "LayoutView",
            "align_content": null,
            "align_items": null,
            "align_self": null,
            "border": null,
            "bottom": null,
            "display": null,
            "flex": null,
            "flex_flow": null,
            "grid_area": null,
            "grid_auto_columns": null,
            "grid_auto_flow": null,
            "grid_auto_rows": null,
            "grid_column": null,
            "grid_gap": null,
            "grid_row": null,
            "grid_template_areas": null,
            "grid_template_columns": null,
            "grid_template_rows": null,
            "height": null,
            "justify_content": null,
            "justify_items": null,
            "left": null,
            "margin": null,
            "max_height": null,
            "max_width": null,
            "min_height": null,
            "min_width": null,
            "object_fit": null,
            "object_position": null,
            "order": null,
            "overflow": null,
            "overflow_x": null,
            "overflow_y": null,
            "padding": null,
            "right": null,
            "top": null,
            "visibility": null,
            "width": null
          }
        }
      }
    }
  },
  "nbformat": 4,
  "nbformat_minor": 0
}